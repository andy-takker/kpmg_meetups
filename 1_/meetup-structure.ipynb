{
 "cells": [
  {
   "cell_type": "code",
   "execution_count": null,
   "id": "6ea8c8c6-dba4-4038-a55d-349f3d9423ea",
   "metadata": {
    "jupyter": {
     "source_hidden": true
    },
    "tags": []
   },
   "outputs": [],
   "source": []
  },
  {
   "cell_type": "markdown",
   "id": "dbeeb69c-ce57-42ef-b88a-f1d047b538b9",
   "metadata": {
    "tags": []
   },
   "source": [
    "# Основные операторы и типы данных, простейшие функции\n",
    "-----\n"
   ]
  },
  {
   "cell_type": "markdown",
   "id": "536532b5-7761-4b07-92f5-92cf9b2b0c5e",
   "metadata": {
    "tags": []
   },
   "source": [
    "## Содержание"
   ]
  },
  {
   "cell_type": "markdown",
   "id": "a4ffe452-59cf-47c2-a831-29b42ee83320",
   "metadata": {
    "tags": []
   },
   "source": [
    "1. [Введение](#введение)\n",
    "2. [Типы данных](#типы_данных)\n",
    "3. [Переменные. Стандартный ввод/вывод](#переменные)\n",
    "4. [Циклы](#циклы)\n",
    "4. [Логические операции, операции сравнения](#логические_операции)\n",
    "5. [Условия: if, else, elif. Блоки, отступы](#условия)\n",
    "6. [Функции](#функции)\n",
    "7. [Задачи](#задачи)\n",
    "8. [Полезные материалы](#полезные_материалы)"
   ]
  },
  {
   "cell_type": "markdown",
   "id": "eae510ea-ebc0-4b81-8e1e-22978e2dc069",
   "metadata": {
    "tags": []
   },
   "source": [
    "## Введение\n",
    "\n",
    "<div id=\"введение\"></div>\n"
   ]
  },
  {
   "cell_type": "markdown",
   "id": "d5eadd12-0957-480d-b4cd-56a166baa85e",
   "metadata": {
    "tags": []
   },
   "source": [
    "### Установка Python"
   ]
  },
  {
   "cell_type": "markdown",
   "id": "a778ec72-236d-4d98-9880-f54885c8e981",
   "metadata": {
    "tags": []
   },
   "source": [
    "##### 1. Переходим в Software Center"
   ]
  },
  {
   "cell_type": "markdown",
   "id": "ad7ca89d-0afc-4209-885e-bb2e806afc93",
   "metadata": {},
   "source": [
    "![alt text](./pictures/0_1_software_center.png)"
   ]
  },
  {
   "cell_type": "markdown",
   "id": "2d674f9e-c32d-4495-8994-691c8c8b9197",
   "metadata": {
    "tags": []
   },
   "source": [
    "##### 2. Находим Python"
   ]
  },
  {
   "cell_type": "markdown",
   "id": "5dd59f82-0a62-489b-85a2-a50293b3d07c",
   "metadata": {},
   "source": [
    "![alt text](./pictures/0_2_python_search.png)"
   ]
  },
  {
   "cell_type": "markdown",
   "id": "8595692c-b64a-46dd-831c-72a9610a1dec",
   "metadata": {
    "tags": []
   },
   "source": [
    "##### 3. Устанавливаем"
   ]
  },
  {
   "cell_type": "markdown",
   "id": "ced69d24-18ab-47c2-84c3-0c6942a58e48",
   "metadata": {
    "tags": []
   },
   "source": [
    "![alt text](./pictures/0_3_python_install.png)"
   ]
  },
  {
   "cell_type": "markdown",
   "id": "06983a36-9796-4406-a2e7-d412e0af278e",
   "metadata": {
    "tags": []
   },
   "source": [
    "##### 4.1. Открываем CMD"
   ]
  },
  {
   "cell_type": "markdown",
   "id": "9c0eaab8-8b2a-4cb3-bbf6-94f04557e1b9",
   "metadata": {},
   "source": [
    "Нажать:  **Win+R**\n",
    "\n",
    "В открывшееся окно ввести \"cmd\" (без кавычек\") -> ENTER\n",
    "\n",
    "![alt text](./pictures/0_4_open_cmd.png)"
   ]
  },
  {
   "cell_type": "markdown",
   "id": "dd14b1e5-f99f-4dd5-a595-3d20ec9584d7",
   "metadata": {
    "tags": []
   },
   "source": [
    "##### 4.2. Проверяем установку"
   ]
  },
  {
   "cell_type": "markdown",
   "id": "4ad69ecd-86b4-4ce0-bbe7-962dade4fc28",
   "metadata": {},
   "source": [
    "```bash\n",
    "python --version\n",
    "```\n",
    "\n",
    "![alt text](./pictures/0_5_checking_installing.png)"
   ]
  },
  {
   "cell_type": "markdown",
   "id": "4324b15e-46a9-4260-acfe-7d0b1fb43824",
   "metadata": {
    "tags": []
   },
   "source": [
    "##### 5. Устанавливаем Jupyter Lab/Notebook"
   ]
  },
  {
   "cell_type": "markdown",
   "id": "ffb26579-1cb2-41de-85f6-d013486aabfc",
   "metadata": {},
   "source": [
    "```bash\n",
    "python -m pip install jupyter config --global http.sslVerify false\n",
    "```\n",
    "\n",
    "![alt text](./pictures/0_6_installing_jupyter.png)"
   ]
  },
  {
   "cell_type": "markdown",
   "id": "8bc65827-341b-4750-86be-c56e528763ed",
   "metadata": {},
   "source": [
    "или"
   ]
  },
  {
   "cell_type": "markdown",
   "id": "1f5ce0b3-535c-4fb4-98f3-a8217edc98c3",
   "metadata": {
    "tags": []
   },
   "source": [
    "```bash\n",
    "python -m pip install jupyterlab config --global http.sslVerify false\n",
    "```\n",
    "\n",
    "![alt text](./pictures/0_6_installing_jupyterlab.png)"
   ]
  },
  {
   "cell_type": "markdown",
   "id": "53e61fe8-6310-4067-83e1-6d477d066db3",
   "metadata": {
    "tags": []
   },
   "source": [
    "##### 6. Запускаем Jupyter Lab/Notebook"
   ]
  },
  {
   "cell_type": "markdown",
   "id": "2272ce52-0174-428b-9216-24d9a125a41e",
   "metadata": {
    "tags": []
   },
   "source": [
    "```bash\n",
    "python -m jupyter lab\n",
    "```\n",
    "\n",
    "![alt text](./pictures/0_6_run_jupyter_lab.png)"
   ]
  },
  {
   "cell_type": "markdown",
   "id": "cacb8c27-06d1-4269-a661-b78ad8877bd0",
   "metadata": {},
   "source": [
    "или "
   ]
  },
  {
   "cell_type": "markdown",
   "id": "ac8ff6c9-9e49-4284-b9d7-cb3f17efefd1",
   "metadata": {},
   "source": [
    "```bash\n",
    "python -m jupyter notebook\n",
    "```\n",
    "\n",
    "![alt text](./pictures/0_6_run_jupyter_notebook.png)"
   ]
  },
  {
   "cell_type": "markdown",
   "id": "326b2c4f-d16b-4704-9fdf-e11864a3b30d",
   "metadata": {
    "tags": []
   },
   "source": [
    "## Типы данных\n",
    "<div id=\"типы_данных\"></div>"
   ]
  },
  {
   "cell_type": "markdown",
   "id": "c2df499d-b662-4d54-b96b-34b67bd51442",
   "metadata": {
    "tags": []
   },
   "source": [
    "### Простые типы данных\n"
   ]
  },
  {
   "cell_type": "markdown",
   "id": "96628d4f-7c90-4f84-ab79-6453cfce51a4",
   "metadata": {
    "tags": []
   },
   "source": [
    "#### Числовые типы\n",
    "\n",
    "```float```, ```int```, ```bool```"
   ]
  },
  {
   "cell_type": "markdown",
   "id": "bddc2b4b-95c1-485c-9d91-b9a03cef7456",
   "metadata": {
    "tags": []
   },
   "source": [
    "##### Операции с целыми числами"
   ]
  },
  {
   "cell_type": "code",
   "execution_count": 3,
   "id": "d9ad3a66-9737-4d30-82c2-ba33a2668444",
   "metadata": {},
   "outputs": [
    {
     "data": {
      "text/plain": [
       "(268, -109, 1909, 3.869565217391304, 78, 4)"
      ]
     },
     "execution_count": 3,
     "metadata": {},
     "output_type": "execute_result"
    }
   ],
   "source": [
    "34+234, 234-343, 83*23, 89 / 23, 234//3, 34 % 5"
   ]
  },
  {
   "cell_type": "code",
   "execution_count": 8,
   "id": "9342dda5-c45f-49ab-b43d-0d4a2e61c462",
   "metadata": {},
   "outputs": [
    {
     "data": {
      "text/plain": [
       "130"
      ]
     },
     "execution_count": 8,
     "metadata": {},
     "output_type": "execute_result"
    }
   ],
   "source": [
    "(23+3)*5"
   ]
  },
  {
   "cell_type": "code",
   "execution_count": 11,
   "id": "78f083d5-0e9f-49cf-97e5-8506e3fef25c",
   "metadata": {},
   "outputs": [
    {
     "ename": "ZeroDivisionError",
     "evalue": "division by zero",
     "output_type": "error",
     "traceback": [
      "\u001b[1;31m---------------------------------------------------------------------------\u001b[0m",
      "\u001b[1;31mZeroDivisionError\u001b[0m                         Traceback (most recent call last)",
      "\u001b[1;32mC:\\Users\\SNATAL~1\\AppData\\Local\\Temp/ipykernel_13436/826602445.py\u001b[0m in \u001b[0;36m<module>\u001b[1;34m\u001b[0m\n\u001b[1;32m----> 1\u001b[1;33m \u001b[1;33m-\u001b[0m\u001b[1;36m34\u001b[0m \u001b[1;33m/\u001b[0m \u001b[1;36m0\u001b[0m\u001b[1;33m\u001b[0m\u001b[1;33m\u001b[0m\u001b[0m\n\u001b[0m",
      "\u001b[1;31mZeroDivisionError\u001b[0m: division by zero"
     ]
    }
   ],
   "source": [
    "-34 / 0"
   ]
  },
  {
   "cell_type": "code",
   "execution_count": 15,
   "id": "992016a7-e20e-4e71-b9a2-16a1053ea225",
   "metadata": {},
   "outputs": [
    {
     "data": {
      "text/plain": [
       "(1, 0)"
      ]
     },
     "execution_count": 15,
     "metadata": {},
     "output_type": "execute_result"
    }
   ],
   "source": [
    "int(True), int(False)"
   ]
  },
  {
   "cell_type": "code",
   "execution_count": 16,
   "id": "6d8e5a1e-3237-44d1-9f12-29abc99c6c90",
   "metadata": {},
   "outputs": [
    {
     "ename": "ValueError",
     "evalue": "invalid literal for int() with base 10: '234.23'",
     "output_type": "error",
     "traceback": [
      "\u001b[1;31m---------------------------------------------------------------------------\u001b[0m",
      "\u001b[1;31mValueError\u001b[0m                                Traceback (most recent call last)",
      "\u001b[1;32mC:\\Users\\SNATAL~1\\AppData\\Local\\Temp/ipykernel_13436/1793699338.py\u001b[0m in \u001b[0;36m<module>\u001b[1;34m\u001b[0m\n\u001b[1;32m----> 1\u001b[1;33m \u001b[0mint\u001b[0m\u001b[1;33m(\u001b[0m\u001b[1;34m'234.23'\u001b[0m\u001b[1;33m)\u001b[0m\u001b[1;33m\u001b[0m\u001b[1;33m\u001b[0m\u001b[0m\n\u001b[0m",
      "\u001b[1;31mValueError\u001b[0m: invalid literal for int() with base 10: '234.23'"
     ]
    }
   ],
   "source": [
    "int('234.23')"
   ]
  },
  {
   "cell_type": "markdown",
   "id": "27353ef4-3c3d-49be-bf48-74c1993cff4e",
   "metadata": {
    "tags": []
   },
   "source": [
    "##### Операции с вещественными числами"
   ]
  },
  {
   "cell_type": "code",
   "execution_count": 17,
   "id": "bb5775e3-6192-4682-aa0c-4f2838bb4c6d",
   "metadata": {},
   "outputs": [
    {
     "data": {
      "text/plain": [
       "(234.0, 234.343)"
      ]
     },
     "execution_count": 17,
     "metadata": {},
     "output_type": "execute_result"
    }
   ],
   "source": [
    "234.0, 234.343"
   ]
  },
  {
   "cell_type": "code",
   "execution_count": 18,
   "id": "369dd7a0-2679-4cc4-99a1-73f2059fc4e5",
   "metadata": {},
   "outputs": [
    {
     "data": {
      "text/plain": [
       "float"
      ]
     },
     "execution_count": 18,
     "metadata": {},
     "output_type": "execute_result"
    }
   ],
   "source": [
    "type(234.0)"
   ]
  },
  {
   "cell_type": "code",
   "execution_count": 19,
   "id": "092afb52-9a12-4f69-9286-47fe1695b996",
   "metadata": {},
   "outputs": [
    {
     "data": {
      "text/plain": [
       "(3400.0, 66.0, 268.0, 6.8361086765994745, 141.0, 0.3400000000000034)"
      ]
     },
     "execution_count": 19,
     "metadata": {},
     "output_type": "execute_result"
    }
   ],
   "source": [
    "100.0 * 34, 100.0 -34, 234.0+34, 234.0 / 34.23, 987.9 // 7, 234.34 % 3"
   ]
  },
  {
   "cell_type": "code",
   "execution_count": 20,
   "id": "2ca013ad-b7ec-4e21-9111-a3d894ad9853",
   "metadata": {},
   "outputs": [
    {
     "data": {
      "text/plain": [
       "3.7564574158421e+80"
      ]
     },
     "execution_count": 20,
     "metadata": {},
     "output_type": "execute_result"
    }
   ],
   "source": [
    "234.34 ** 34"
   ]
  },
  {
   "cell_type": "code",
   "execution_count": 24,
   "id": "dc6f5463-def1-4c1e-bcac-96dde25abfae",
   "metadata": {},
   "outputs": [
    {
     "ename": "ValueError",
     "evalue": "invalid literal for int() with base 10: 'inf'",
     "output_type": "error",
     "traceback": [
      "\u001b[1;31m---------------------------------------------------------------------------\u001b[0m",
      "\u001b[1;31mValueError\u001b[0m                                Traceback (most recent call last)",
      "\u001b[1;32mC:\\Users\\SNATAL~1\\AppData\\Local\\Temp/ipykernel_13436/1187677996.py\u001b[0m in \u001b[0;36m<module>\u001b[1;34m\u001b[0m\n\u001b[1;32m----> 1\u001b[1;33m \u001b[0mint\u001b[0m\u001b[1;33m(\u001b[0m\u001b[1;34m'inf'\u001b[0m\u001b[1;33m)\u001b[0m\u001b[1;33m\u001b[0m\u001b[1;33m\u001b[0m\u001b[0m\n\u001b[0m",
      "\u001b[1;31mValueError\u001b[0m: invalid literal for int() with base 10: 'inf'"
     ]
    }
   ],
   "source": [
    "int('inf')"
   ]
  },
  {
   "cell_type": "code",
   "execution_count": 25,
   "id": "3cb12db6-df4a-44ea-9c42-88a555d12340",
   "metadata": {},
   "outputs": [
    {
     "data": {
      "text/plain": [
       "(True, False)"
      ]
     },
     "execution_count": 25,
     "metadata": {},
     "output_type": "execute_result"
    }
   ],
   "source": [
    "# Boolean\n",
    "\n",
    "True, False"
   ]
  },
  {
   "cell_type": "code",
   "execution_count": 26,
   "id": "2a397d36-911b-4862-9142-f2c05dd02c4b",
   "metadata": {},
   "outputs": [
    {
     "data": {
      "text/plain": [
       "True"
      ]
     },
     "execution_count": 26,
     "metadata": {},
     "output_type": "execute_result"
    }
   ],
   "source": [
    "True or False"
   ]
  },
  {
   "cell_type": "code",
   "execution_count": 27,
   "id": "c24eaaf3-a4ae-4f38-b686-e71e0099e212",
   "metadata": {},
   "outputs": [
    {
     "data": {
      "text/plain": [
       "(False, False, False)"
      ]
     },
     "execution_count": 27,
     "metadata": {},
     "output_type": "execute_result"
    }
   ],
   "source": [
    "False or False, True and False, False and True"
   ]
  },
  {
   "cell_type": "code",
   "execution_count": 29,
   "id": "5d170078-b3c3-4c38-951e-def5ef66c888",
   "metadata": {},
   "outputs": [
    {
     "data": {
      "text/plain": [
       "1.5"
      ]
     },
     "execution_count": 29,
     "metadata": {},
     "output_type": "execute_result"
    }
   ],
   "source": []
  },
  {
   "cell_type": "markdown",
   "id": "8a707c4d-7afb-4577-a84f-6db2adc588f4",
   "metadata": {
    "tags": []
   },
   "source": [
    "#### None"
   ]
  },
  {
   "cell_type": "code",
   "execution_count": 32,
   "id": "b0ff0484-03a3-4cfb-91fe-c6e986fdf182",
   "metadata": {},
   "outputs": [
    {
     "data": {
      "text/plain": [
       "True"
      ]
     },
     "execution_count": 32,
     "metadata": {},
     "output_type": "execute_result"
    }
   ],
   "source": [
    "a = None\n",
    "a == None"
   ]
  },
  {
   "cell_type": "markdown",
   "id": "aaf439b3-13ff-46ab-a5fd-9bd498ba1016",
   "metadata": {
    "jp-MarkdownHeadingCollapsed": true,
    "tags": []
   },
   "source": [
    "#### Строка\n",
    "\n",
    "```str```"
   ]
  },
  {
   "cell_type": "code",
   "execution_count": 34,
   "id": "2b915f8d-97d7-46ba-b19a-c434fe8a50b6",
   "metadata": {},
   "outputs": [
    {
     "data": {
      "text/plain": [
       "'Hello, world!'"
      ]
     },
     "execution_count": 34,
     "metadata": {},
     "output_type": "execute_result"
    }
   ],
   "source": [
    "s = 'Hello, world!'\n",
    "s = \"Hello, world!\"\n",
    "s"
   ]
  },
  {
   "cell_type": "code",
   "execution_count": 37,
   "id": "3d7c2212-abe3-4995-a4a8-a13be337a4bc",
   "metadata": {},
   "outputs": [
    {
     "data": {
      "text/plain": [
       "('hello, world!', 'HELLO, WORLD!')"
      ]
     },
     "execution_count": 37,
     "metadata": {},
     "output_type": "execute_result"
    }
   ],
   "source": [
    "s.lower(), s.upper()"
   ]
  },
  {
   "cell_type": "code",
   "execution_count": 39,
   "id": "bb4e4fd5-7afd-4e3a-9360-bfcba0d6f217",
   "metadata": {},
   "outputs": [
    {
     "data": {
      "text/plain": [
       "'Привет, мир!'"
      ]
     },
     "execution_count": 39,
     "metadata": {},
     "output_type": "execute_result"
    }
   ],
   "source": [
    "s = 'привет, мир!'\n",
    "s.capitalize()"
   ]
  },
  {
   "cell_type": "code",
   "execution_count": 41,
   "id": "e094abdd-51dc-40fc-af51-20bd21117c7b",
   "metadata": {},
   "outputs": [
    {
     "data": {
      "text/plain": [
       "'какая-то строка'"
      ]
     },
     "execution_count": 41,
     "metadata": {},
     "output_type": "execute_result"
    }
   ],
   "source": [
    "s = '      какая-то строка   '\n",
    "s.strip()"
   ]
  },
  {
   "cell_type": "code",
   "execution_count": 42,
   "id": "ad87a43c-4595-4207-a3b7-b48b1e7718d0",
   "metadata": {},
   "outputs": [
    {
     "data": {
      "text/plain": [
       "'hello,hello,hello'"
      ]
     },
     "execution_count": 42,
     "metadata": {},
     "output_type": "execute_result"
    }
   ],
   "source": [
    "','.join(['hello','hello','hello'])"
   ]
  },
  {
   "cell_type": "code",
   "execution_count": 46,
   "id": "5f5d81c9-1427-438e-887a-75792f84a039",
   "metadata": {},
   "outputs": [
    {
     "data": {
      "text/plain": [
       "'Иван Петров'"
      ]
     },
     "execution_count": 46,
     "metadata": {},
     "output_type": "execute_result"
    }
   ],
   "source": [
    "'Иван'+'Петров'"
   ]
  },
  {
   "cell_type": "code",
   "execution_count": 43,
   "id": "5c20f2dc-f49e-47ec-bdff-4f0e26e15d7f",
   "metadata": {},
   "outputs": [
    {
     "data": {
      "text/plain": [
       "['Hello', 'hello', 'hello', 'hello']"
      ]
     },
     "execution_count": 43,
     "metadata": {},
     "output_type": "execute_result"
    }
   ],
   "source": [
    "s= 'Hello hello hello hello'\n",
    "s.split(' ')"
   ]
  },
  {
   "cell_type": "code",
   "execution_count": 47,
   "id": "2d2448a0-2587-446a-b891-6aede8a5e81b",
   "metadata": {},
   "outputs": [
    {
     "data": {
      "text/plain": [
       "'hellohellohellohellohellohellohellohello'"
      ]
     },
     "execution_count": 47,
     "metadata": {},
     "output_type": "execute_result"
    }
   ],
   "source": [
    "'hello' * 8"
   ]
  },
  {
   "cell_type": "code",
   "execution_count": 55,
   "id": "e97af1f2-1058-4961-974e-dccc99713483",
   "metadata": {},
   "outputs": [],
   "source": [
    "s = 'asdfghjkl'"
   ]
  },
  {
   "cell_type": "code",
   "execution_count": 61,
   "id": "495d5412-707f-4ea9-b47f-611cd54a2fc3",
   "metadata": {},
   "outputs": [
    {
     "data": {
      "text/plain": [
       "('h', 'fghj', 'lkjhgfdsa', 'l', 'ljgda', 'adgjl')"
      ]
     },
     "execution_count": 61,
     "metadata": {},
     "output_type": "execute_result"
    }
   ],
   "source": [
    "s[5], s[3:7], s[::-1], s[-1], s[::-2], s[::2]"
   ]
  },
  {
   "cell_type": "markdown",
   "id": "fde3a43a-f25c-4c2e-83ed-41732f8d73e7",
   "metadata": {
    "tags": []
   },
   "source": [
    "#### Функции строк"
   ]
  },
  {
   "cell_type": "markdown",
   "id": "562538ef-7822-4a5f-b802-4e9801c1f1e6",
   "metadata": {
    "tags": []
   },
   "source": [
    "#### Срезы"
   ]
  },
  {
   "cell_type": "markdown",
   "id": "8c9a5a90-3e24-4efd-9faf-3f89ac28076f",
   "metadata": {
    "jp-MarkdownHeadingCollapsed": true,
    "tags": []
   },
   "source": [
    "## Переменные. Стандартный ввод/вывод\n",
    "<div id=\"переменные\"></div>"
   ]
  },
  {
   "cell_type": "code",
   "execution_count": 62,
   "id": "bfe4c399-c44e-476f-b31b-21c0945fce6f",
   "metadata": {},
   "outputs": [],
   "source": [
    "a = 34\n",
    "b = 83.8\n",
    "c = False\n",
    "d = 'ASDF'\n",
    "e = None"
   ]
  },
  {
   "cell_type": "code",
   "execution_count": 63,
   "id": "b77aaddd-96c8-44e0-9c35-0213c81cfde0",
   "metadata": {},
   "outputs": [
    {
     "name": "stdin",
     "output_type": "stream",
     "text": [
      " aasdfsdfaskfjlkj\n"
     ]
    },
    {
     "data": {
      "text/plain": [
       "'aasdfsdfaskfjlkj'"
      ]
     },
     "execution_count": 63,
     "metadata": {},
     "output_type": "execute_result"
    }
   ],
   "source": [
    "input()"
   ]
  },
  {
   "cell_type": "code",
   "execution_count": 64,
   "id": "3829e939-87f3-4acf-9ff4-9d1f54a4dca4",
   "metadata": {},
   "outputs": [
    {
     "name": "stdin",
     "output_type": "stream",
     "text": [
      " Переменная А\n"
     ]
    }
   ],
   "source": [
    "a = input()"
   ]
  },
  {
   "cell_type": "code",
   "execution_count": 66,
   "id": "eec4791e-bae5-4cff-8ffb-1dadc2bb5ebd",
   "metadata": {},
   "outputs": [
    {
     "name": "stdin",
     "output_type": "stream",
     "text": [
      " 324\n"
     ]
    }
   ],
   "source": [
    "a = int(input())"
   ]
  },
  {
   "cell_type": "code",
   "execution_count": 67,
   "id": "70e2bb01-9929-4d13-b101-11fe4d25efba",
   "metadata": {},
   "outputs": [
    {
     "name": "stdout",
     "output_type": "stream",
     "text": [
      "324 <class 'int'>\n"
     ]
    }
   ],
   "source": [
    "print(a, type(a))"
   ]
  },
  {
   "cell_type": "code",
   "execution_count": 69,
   "id": "c2de372f-5e85-4ca5-b47d-d78d7199b000",
   "metadata": {},
   "outputs": [
    {
     "name": "stdin",
     "output_type": "stream",
     "text": [
      "Введите ваш возраст: 21.5\n"
     ]
    },
    {
     "name": "stdout",
     "output_type": "stream",
     "text": [
      "21.5 <class 'float'>\n"
     ]
    }
   ],
   "source": [
    "a = float(input('Введите ваш возраст:'))\n",
    "print(a, type(a))"
   ]
  },
  {
   "cell_type": "code",
   "execution_count": 71,
   "id": "4069a1b3-c743-4475-a5fe-336194faa5ae",
   "metadata": {},
   "outputs": [
    {
     "name": "stdin",
     "output_type": "stream",
     "text": [
      " 1 2 3\n"
     ]
    },
    {
     "name": "stdout",
     "output_type": "stream",
     "text": [
      "[1, 2, 3]\n",
      "<class 'int'>\n"
     ]
    }
   ],
   "source": [
    "# 1 2 3 4 5 6\n",
    "a = list(map(int, input().split()))\n",
    "print(a)\n",
    "print(type(a[0]))"
   ]
  },
  {
   "cell_type": "code",
   "execution_count": 3,
   "id": "8cad99eb-5001-407e-aab3-bc64d27fa998",
   "metadata": {},
   "outputs": [
    {
     "name": "stdin",
     "output_type": "stream",
     "text": [
      " 1 2\n"
     ]
    },
    {
     "name": "stdout",
     "output_type": "stream",
     "text": [
      "['1', '2']\n"
     ]
    },
    {
     "ename": "TypeError",
     "evalue": "unsupported operand type(s) for +: 'int' and 'str'",
     "output_type": "error",
     "traceback": [
      "\u001b[1;31m---------------------------------------------------------------------------\u001b[0m",
      "\u001b[1;31mTypeError\u001b[0m                                 Traceback (most recent call last)",
      "\u001b[1;32mC:\\Users\\SNATAL~1\\AppData\\Local\\Temp/ipykernel_11860/4252823326.py\u001b[0m in \u001b[0;36m<module>\u001b[1;34m\u001b[0m\n\u001b[0;32m      1\u001b[0m \u001b[0ma\u001b[0m \u001b[1;33m=\u001b[0m \u001b[0minput\u001b[0m\u001b[1;33m(\u001b[0m\u001b[1;33m)\u001b[0m\u001b[1;33m.\u001b[0m\u001b[0msplit\u001b[0m\u001b[1;33m(\u001b[0m\u001b[1;33m)\u001b[0m\u001b[1;33m\u001b[0m\u001b[1;33m\u001b[0m\u001b[0m\n\u001b[0;32m      2\u001b[0m \u001b[0mprint\u001b[0m\u001b[1;33m(\u001b[0m\u001b[0ma\u001b[0m\u001b[1;33m)\u001b[0m\u001b[1;33m\u001b[0m\u001b[1;33m\u001b[0m\u001b[0m\n\u001b[1;32m----> 3\u001b[1;33m \u001b[0mprint\u001b[0m\u001b[1;33m(\u001b[0m\u001b[0msum\u001b[0m\u001b[1;33m(\u001b[0m\u001b[0ma\u001b[0m\u001b[1;33m)\u001b[0m\u001b[1;33m)\u001b[0m\u001b[1;33m\u001b[0m\u001b[1;33m\u001b[0m\u001b[0m\n\u001b[0m",
      "\u001b[1;31mTypeError\u001b[0m: unsupported operand type(s) for +: 'int' and 'str'"
     ]
    }
   ],
   "source": [
    "a = input().split()\n",
    "print(a)\n",
    "print(sum(a))"
   ]
  },
  {
   "cell_type": "code",
   "execution_count": 2,
   "id": "6bcc70e1-a411-464c-96c5-91cfc6ac7481",
   "metadata": {},
   "outputs": [
    {
     "data": {
      "text/plain": [
       "[1, 2]"
      ]
     },
     "execution_count": 2,
     "metadata": {},
     "output_type": "execute_result"
    }
   ],
   "source": [
    "list(map(int, a))\n"
   ]
  },
  {
   "cell_type": "markdown",
   "id": "1ec443a7-50db-4df8-80de-77dda3ab3f06",
   "metadata": {
    "tags": []
   },
   "source": [
    "## Циклы\n",
    "<div id=\"циклы\"></div>"
   ]
  },
  {
   "cell_type": "markdown",
   "id": "7aa276e7-0374-4442-8f82-f9085e16fc82",
   "metadata": {
    "tags": []
   },
   "source": [
    "### for"
   ]
  },
  {
   "cell_type": "markdown",
   "id": "cbf33649-c1c0-4f34-9689-085e1b252946",
   "metadata": {
    "tags": []
   },
   "source": [
    "### while"
   ]
  },
  {
   "cell_type": "markdown",
   "id": "3f41fc3f-d7d4-4981-9f9d-c7ba814f902a",
   "metadata": {
    "tags": []
   },
   "source": [
    "## Логические операции, операции сравнения\n",
    "<div id=\"логические_операции\"></div>"
   ]
  },
  {
   "cell_type": "markdown",
   "id": "3fe3a4fe-a930-4123-9b63-9eb0889cb2e9",
   "metadata": {},
   "source": [
    "## Условия: if, else, elif. Блоки, отступы\n",
    "<div id=\"условия\"></div>"
   ]
  },
  {
   "cell_type": "markdown",
   "id": "b57f5526-9ced-47a0-b157-7dbdaeb644e4",
   "metadata": {
    "tags": []
   },
   "source": [
    "## Функции\n",
    "<div id=\"функции\"></div>"
   ]
  },
  {
   "cell_type": "markdown",
   "id": "188ad8f5-8923-412e-865a-587946470d41",
   "metadata": {},
   "source": [
    "### def"
   ]
  },
  {
   "cell_type": "markdown",
   "id": "f2f9e5ac-9b3f-410f-8afa-b3fa03a15de3",
   "metadata": {
    "tags": []
   },
   "source": [
    "### lambda"
   ]
  },
  {
   "cell_type": "code",
   "execution_count": 21,
   "id": "d897c472-8a77-441c-82ee-cbb053591cf2",
   "metadata": {},
   "outputs": [],
   "source": [
    "from newspaper import Article\n",
    "\n",
    "url_bbc = 'https://www.bbc.com/future/article/20211015-how-climate-change-is-threatening-new-yorks-shipwrecks'\n",
    "url_habr = 'https://habr.com/ru/post/583810/'\n",
    "article = Article(url_habr)\n"
   ]
  },
  {
   "cell_type": "code",
   "execution_count": 22,
   "id": "bb65e22e-822c-4c7a-9568-0f34ea2ed690",
   "metadata": {},
   "outputs": [],
   "source": [
    "article.download()"
   ]
  },
  {
   "cell_type": "code",
   "execution_count": 23,
   "id": "7dda5a81-5bf0-4069-b917-7f0183a36f31",
   "metadata": {},
   "outputs": [],
   "source": [
    "article.parse()"
   ]
  },
  {
   "cell_type": "code",
   "execution_count": 25,
   "id": "d2610263-0a80-4b28-b55a-3c0b21a2a79a",
   "metadata": {},
   "outputs": [],
   "source": [
    "#print(article.text)"
   ]
  },
  {
   "cell_type": "code",
   "execution_count": 26,
   "id": "1a0d2e36-8469-4eef-82f5-3b73fbceaf86",
   "metadata": {},
   "outputs": [
    {
     "data": {
      "text/plain": [
       "['Как Стать Автором']"
      ]
     },
     "execution_count": 26,
     "metadata": {},
     "output_type": "execute_result"
    }
   ],
   "source": [
    "article.authors"
   ]
  },
  {
   "cell_type": "code",
   "execution_count": 27,
   "id": "c81e6d9b-7480-487f-a52e-c7a5a05f9164",
   "metadata": {},
   "outputs": [
    {
     "ename": "AttributeError",
     "evalue": "'NoneType' object has no attribute 'strftime'",
     "output_type": "error",
     "traceback": [
      "\u001b[1;31m---------------------------------------------------------------------------\u001b[0m",
      "\u001b[1;31mAttributeError\u001b[0m                            Traceback (most recent call last)",
      "\u001b[1;32mC:\\Users\\SNATAL~1\\AppData\\Local\\Temp/ipykernel_11860/715378648.py\u001b[0m in \u001b[0;36m<module>\u001b[1;34m\u001b[0m\n\u001b[1;32m----> 1\u001b[1;33m \u001b[0marticle\u001b[0m\u001b[1;33m.\u001b[0m\u001b[0mpublish_date\u001b[0m\u001b[1;33m.\u001b[0m\u001b[0mstrftime\u001b[0m\u001b[1;33m(\u001b[0m\u001b[1;34m'%d.%m.%y'\u001b[0m\u001b[1;33m)\u001b[0m\u001b[1;33m\u001b[0m\u001b[1;33m\u001b[0m\u001b[0m\n\u001b[0m",
      "\u001b[1;31mAttributeError\u001b[0m: 'NoneType' object has no attribute 'strftime'"
     ]
    }
   ],
   "source": [
    "article.publish_date.strftime('%d.%m.%y')"
   ]
  },
  {
   "cell_type": "code",
   "execution_count": 28,
   "id": "99880103-5b0f-4762-9ff0-63d857ea6978",
   "metadata": {},
   "outputs": [],
   "source": [
    "#print(article.text)"
   ]
  },
  {
   "cell_type": "code",
   "execution_count": 29,
   "id": "5d74e0a9-3064-49bd-9cc5-aa6bba91bcb6",
   "metadata": {},
   "outputs": [],
   "source": [
    "article.nlp()"
   ]
  },
  {
   "cell_type": "code",
   "execution_count": 30,
   "id": "039c7997-29c2-4c0e-bca2-81ee11fbe3ff",
   "metadata": {},
   "outputs": [
    {
     "data": {
      "text/plain": [
       "['на',\n",
       " 'видимости',\n",
       " 'а',\n",
       " 'в',\n",
       " 'санктпетербурга',\n",
       " 'гулябельности',\n",
       " 'карта',\n",
       " 'мы',\n",
       " 'для',\n",
       " 'не',\n",
       " 'и',\n",
       " 'растительности',\n",
       " 'с']"
      ]
     },
     "execution_count": 30,
     "metadata": {},
     "output_type": "execute_result"
    }
   ],
   "source": [
    "article.keywords"
   ]
  },
  {
   "cell_type": "code",
   "execution_count": 31,
   "id": "24f5766e-2891-4309-8e0b-0f914ee3c4b7",
   "metadata": {},
   "outputs": [
    {
     "name": "stdout",
     "output_type": "stream",
     "text": [
      "Эти термины объединяет то, что их можно выразить некоторым показателем, который будет говорить: в одном месте людям хорошо, а в другом плохо.\n",
      "Проблема: расчеты ведутся на уровне города, исходные данные редко предоставляются открыто, а для уровня кварталов и улиц данные практически отсутствуют.\n",
      "РастительностьВ слой растительности мы включили несколько типов объектов, в которых зачастую имеются древесные насаждения:массивы деревьев (wood)леса (forest)парки (park)кладбища (cemetery).\n",
      "Для растительности используем расстояние до ближайшего полигона растительности от положения наблюдателя для критерия озеленения.\n",
      "На рисунках слева показана карта, в которой не учтены наши изменения, а справа – карта с учётом добавленных всеми вышеописанными способами полигонов растительности и уплотнённой сетки регулярных точек (до 25 м).\n"
     ]
    }
   ],
   "source": [
    "print(article.summary)"
   ]
  },
  {
   "cell_type": "markdown",
   "id": "828fca85-e01b-49fb-91b0-71d4725fa54f",
   "metadata": {
    "tags": []
   },
   "source": [
    "----\n",
    "## Задачи\n",
    "<div id=\"задачи\"></div>"
   ]
  },
  {
   "cell_type": "markdown",
   "id": "cbfcacc5-2bdf-477a-9d18-3f16c666ebf4",
   "metadata": {
    "tags": []
   },
   "source": [
    "#### **Покупка пирожков**"
   ]
  },
  {
   "cell_type": "markdown",
   "id": "48902ac8-33fd-4ba7-87fc-8f6bb97001e3",
   "metadata": {},
   "source": [
    "Пирожок в столовой  стоит А рублей и B копеек. Определите, сколько ребулей и копеек нужно заплатить за N пирожков\n",
    "\n",
    "\n",
    "**Формат входных данных**\n",
    "\n",
    "Программа получает на вход три числа: A, B, N - целые положительные.\n",
    "\n",
    "\n",
    "**Формат выходных данных**\n",
    "\n",
    "Программа должна вывести два числа через пробел: стоимость покупки в рублях и копейках"
   ]
  },
  {
   "cell_type": "markdown",
   "id": "80982dd5-28b7-440e-83bf-2fd501352182",
   "metadata": {
    "tags": []
   },
   "source": [
    "**Пример входных данных 1:**\n",
    "```\n",
    "10\n",
    "15\n",
    "2\n",
    "```\n",
    "\n",
    "**Пример выходных данных 1:**\n",
    "```\n",
    "20 30\n",
    "```\n",
    "----"
   ]
  },
  {
   "cell_type": "markdown",
   "id": "200bc8ae-4a03-4ce0-868f-926618e6afe7",
   "metadata": {
    "tags": []
   },
   "source": [
    "**Пример входных данных 2:**\n",
    "```\n",
    "2\n",
    "50\n",
    "4\n",
    "```\n",
    "\n",
    "**Пример выходных данных 2:**\n",
    "```\n",
    "10 0\n",
    "````\n",
    "----"
   ]
  },
  {
   "cell_type": "markdown",
   "id": "a2dda4b0-a88a-40b0-963e-d9f104679c4e",
   "metadata": {
    "tags": []
   },
   "source": [
    "##### Решение"
   ]
  },
  {
   "cell_type": "markdown",
   "id": "3ccdc147-01b1-4818-9a8a-cd9b7fef1d45",
   "metadata": {
    "tags": []
   },
   "source": [
    "#### Шоколадка"
   ]
  },
  {
   "cell_type": "markdown",
   "id": "204f6736-5d31-4e8e-a656-dca89c781f51",
   "metadata": {},
   "source": [
    "Шоколадка имеет вид прямоугольника, разделенного на NxM долек. Шоколадку можно один раз разломить по прямой на две части. Опеределите, можно ли таким образом отломить от шоколадки ровно K долек.\n",
    "\n",
    "**Формат входных данных**\n",
    "\n",
    "Программа получает на вход три числа: N, M, K\n",
    "\n",
    "\n",
    "**Формат выходных данных**\n",
    "\n",
    "Программа должна вывести одно из двух слов: ```YES``` или ```NO```"
   ]
  },
  {
   "cell_type": "markdown",
   "id": "c8328a4a-8ad0-4c36-a330-eaa5022eade8",
   "metadata": {
    "tags": []
   },
   "source": [
    "**Пример входных данных 1**\n",
    "\n",
    "```\n",
    "4\n",
    "2\n",
    "6\n",
    "```\n",
    "\n",
    "**Пример выходных данных 1**\n",
    "\n",
    "```\n",
    "YES\n",
    "```\n",
    "----"
   ]
  },
  {
   "cell_type": "markdown",
   "id": "6d45b5f2-b68b-49d0-968d-ded2e557c789",
   "metadata": {
    "tags": []
   },
   "source": [
    "**Пример входных данных 2**\n",
    "\n",
    "```\n",
    "2\n",
    "10\n",
    "7\n",
    "```\n",
    "\n",
    "**Пример выходных данных 2**\n",
    "\n",
    "```\n",
    "NO\n",
    "```\n",
    "----"
   ]
  },
  {
   "cell_type": "markdown",
   "id": "f102fe77-fffe-4c52-9b81-10f5e1ae96b3",
   "metadata": {
    "tags": []
   },
   "source": [
    "##### Решение"
   ]
  },
  {
   "cell_type": "markdown",
   "id": "507db2c7-a9e3-49e7-a447-66c8abfa953a",
   "metadata": {
    "tags": []
   },
   "source": [
    "#### Наименьший нечетный элемент"
   ]
  },
  {
   "cell_type": "markdown",
   "id": "42fec087-de4c-4ded-bb12-48de953e4316",
   "metadata": {},
   "source": [
    "выведите значение наименьшего нечетного элемента списка, а если в списке нет нечетных элементов - выведите число ```0```.\n",
    "\n",
    "**Формат входных данных**\n",
    "\n",
    "В одной строке через пробел вводятся элементы массива.\n",
    "\n",
    "\n",
    "**Формат выходных данных**\n",
    "\n",
    "Одно число - ответ на задачу."
   ]
  },
  {
   "cell_type": "markdown",
   "id": "c344d3dd-b23e-452c-8d7f-962b759fa546",
   "metadata": {},
   "source": [
    "**Пример входных данных 1**\n",
    "```\n",
    "0 1 2 3 4 5 6\n",
    "```\n",
    "\n",
    "**Пример выходных данных 1**\n",
    "```\n",
    "1\n",
    "```\n",
    "----"
   ]
  },
  {
   "cell_type": "markdown",
   "id": "1ef7f532-00b1-40a4-9bbc-1fc41a252382",
   "metadata": {},
   "source": [
    "**Пример входных данных 2**\n",
    "\n",
    "```\n",
    "2 4 6 8 10\n",
    "```\n",
    "\n",
    "**Пример выходных данных 2**\n",
    "```\n",
    "0\n",
    "```\n",
    "----"
   ]
  },
  {
   "cell_type": "markdown",
   "id": "da1a782a-150a-4ae2-86d2-809796deb4f3",
   "metadata": {},
   "source": [
    "##### Решение"
   ]
  },
  {
   "cell_type": "markdown",
   "id": "a41b4529-b769-4585-8830-21d9de2bb893",
   "metadata": {
    "tags": []
   },
   "source": [
    "----\n",
    "## Полезные материалы\n",
    "<div id=\"полезные_материалы\"></div>"
   ]
  },
  {
   "cell_type": "markdown",
   "id": "2049b596-7107-4157-8a36-5d8a8ef161c1",
   "metadata": {
    "tags": []
   },
   "source": [
    "### Книги"
   ]
  },
  {
   "cell_type": "markdown",
   "id": "99a82530-4ed6-4c08-91b2-71cb92b604b7",
   "metadata": {},
   "source": [
    "1. A byte of Python. Swaroop Chiltur (в русском переводе \"Укус Питона\" пер. Владимир Смоляр)\n",
    "2. Как устроен Python. Гид для разработчиков, программистов и интересующихся. Мэтт Харрисон\n",
    "3. Python. Справочник. Полное описание языка. Алекс Мартелли **&ast;**\n",
    "4. Python. К вершинам мастерства. Лучано Ромальо **&ast;**"
   ]
  },
  {
   "cell_type": "markdown",
   "id": "022823b7-7f25-4d65-9b5d-9249cd3ef187",
   "metadata": {
    "tags": []
   },
   "source": [
    "### Курсы"
   ]
  },
  {
   "cell_type": "markdown",
   "id": "d4e97d9a-a135-448e-9574-f9495a5cb850",
   "metadata": {},
   "source": [
    "1. [Stepik. Программирование на Python](https://stepik.org/course/67/promo#toc)\n",
    "2. [Stepik. Python: основы и применение](https://stepik.org/course/512/promo#toc)\n",
    "3. [YouTube. Тимофей Хирьянов. Практика программирования на Python 3 (2019)](https://www.youtube.com/playlist?list=PLRDzFCPr95fLuusPXwvOPgXzBL3ZTzybY)\n",
    "4. [YouTube. Яндекс. Курс \"Язык Python\" (2016)](https://www.youtube.com/playlist?list=PLJOzdkh8T5kpIBTG9mM2wVBjh-5OpdwBl)"
   ]
  },
  {
   "cell_type": "markdown",
   "id": "dd281cfa-cd8c-4187-8abb-96bb420cf196",
   "metadata": {
    "tags": []
   },
   "source": [
    "### Другое"
   ]
  },
  {
   "cell_type": "markdown",
   "id": "f001bd5d-acf2-4d4d-a05b-47c328717143",
   "metadata": {},
   "source": [
    "1. [Python на Хабре](https://habr.com/ru/post/205944/)\n",
    "2. [Документация последней версии Python](https://docs.python.org/3/index.html)\n",
    "3. [PEP 8. Style Guide for Python Code](https://www.python.org/dev/peps/pep-0008/)"
   ]
  },
  {
   "cell_type": "code",
   "execution_count": null,
   "id": "6df5febc-af55-4373-b696-a3be49cb3caa",
   "metadata": {},
   "outputs": [],
   "source": []
  }
 ],
 "metadata": {
  "kernelspec": {
   "display_name": "Python 3 (ipykernel)",
   "language": "python",
   "name": "python3"
  },
  "language_info": {
   "codemirror_mode": {
    "name": "ipython",
    "version": 3
   },
   "file_extension": ".py",
   "mimetype": "text/x-python",
   "name": "python",
   "nbconvert_exporter": "python",
   "pygments_lexer": "ipython3",
   "version": "3.9.5"
  }
 },
 "nbformat": 4,
 "nbformat_minor": 5
}
