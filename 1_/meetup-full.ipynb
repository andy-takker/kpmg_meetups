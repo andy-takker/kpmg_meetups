{
 "cells": [
  {
   "cell_type": "markdown",
   "id": "dbeeb69c-ce57-42ef-b88a-f1d047b538b9",
   "metadata": {
    "tags": []
   },
   "source": [
    "# Основные операторы и типы данных, простейшие функции\n",
    "-----\n"
   ]
  },
  {
   "cell_type": "markdown",
   "id": "a0c3a06b-7c6d-4218-b5ad-01c4d47f1ee6",
   "metadata": {
    "tags": []
   },
   "source": [
    "## Содержание"
   ]
  },
  {
   "cell_type": "markdown",
   "id": "a4ffe452-59cf-47c2-a831-29b42ee83320",
   "metadata": {
    "tags": []
   },
   "source": [
    "0. Введение\n",
    "1. [Операции с целыми числами](#операции-с-целыми-числами)\n",
    "2. Операции с вещественными числами\n",
    "3. Типы данных \n",
    "4. Переменные. Стандартный ввод/вывод\n",
    "5. Логические операции, операции сравнения\n",
    "6. Условия: if, else, elif. Блоки, отступы\n",
    "7. Функции\n",
    "8. Задачи\n",
    "9. Полезные материалы"
   ]
  },
  {
   "cell_type": "markdown",
   "id": "eae510ea-ebc0-4b81-8e1e-22978e2dc069",
   "metadata": {
    "jp-MarkdownHeadingCollapsed": true,
    "tags": []
   },
   "source": [
    "## Введение"
   ]
  },
  {
   "cell_type": "markdown",
   "id": "d5eadd12-0957-480d-b4cd-56a166baa85e",
   "metadata": {
    "tags": []
   },
   "source": [
    "### Установка Python"
   ]
  },
  {
   "cell_type": "markdown",
   "id": "a778ec72-236d-4d98-9880-f54885c8e981",
   "metadata": {
    "jp-MarkdownHeadingCollapsed": true,
    "tags": []
   },
   "source": [
    "##### 1. Переходим в Software Center"
   ]
  },
  {
   "cell_type": "markdown",
   "id": "ad7ca89d-0afc-4209-885e-bb2e806afc93",
   "metadata": {},
   "source": [
    "![alt text](./pictures/0_1_software_center.png)"
   ]
  },
  {
   "cell_type": "markdown",
   "id": "2d674f9e-c32d-4495-8994-691c8c8b9197",
   "metadata": {
    "jp-MarkdownHeadingCollapsed": true,
    "tags": []
   },
   "source": [
    "##### 2. Находим Python"
   ]
  },
  {
   "cell_type": "markdown",
   "id": "5dd59f82-0a62-489b-85a2-a50293b3d07c",
   "metadata": {},
   "source": [
    "![alt text](./pictures/0_2_python_search.png)"
   ]
  },
  {
   "cell_type": "markdown",
   "id": "8595692c-b64a-46dd-831c-72a9610a1dec",
   "metadata": {
    "jp-MarkdownHeadingCollapsed": true,
    "tags": []
   },
   "source": [
    "##### 3. Устанавливаем"
   ]
  },
  {
   "cell_type": "markdown",
   "id": "ced69d24-18ab-47c2-84c3-0c6942a58e48",
   "metadata": {
    "tags": []
   },
   "source": [
    "![alt text](./pictures/0_3_python_install.png)"
   ]
  },
  {
   "cell_type": "markdown",
   "id": "06983a36-9796-4406-a2e7-d412e0af278e",
   "metadata": {
    "jp-MarkdownHeadingCollapsed": true,
    "tags": []
   },
   "source": [
    "##### 4.1. Открываем CMD"
   ]
  },
  {
   "cell_type": "markdown",
   "id": "9c0eaab8-8b2a-4cb3-bbf6-94f04557e1b9",
   "metadata": {},
   "source": [
    "Нажать:  **Win+R**\n",
    "\n",
    "В открывшееся окно ввести \"cmd\" (без кавычек\") -> ENTER\n",
    "\n",
    "![alt text](./pictures/0_4_open_cmd.png)"
   ]
  },
  {
   "cell_type": "markdown",
   "id": "dd14b1e5-f99f-4dd5-a595-3d20ec9584d7",
   "metadata": {
    "jp-MarkdownHeadingCollapsed": true,
    "tags": []
   },
   "source": [
    "##### 4.2. Проверяем установку"
   ]
  },
  {
   "cell_type": "markdown",
   "id": "4ad69ecd-86b4-4ce0-bbe7-962dade4fc28",
   "metadata": {},
   "source": [
    "```bash\n",
    "python --version\n",
    "```\n",
    "\n",
    "![alt text](./pictures/0_5_checking_installing.png)"
   ]
  },
  {
   "cell_type": "markdown",
   "id": "4324b15e-46a9-4260-acfe-7d0b1fb43824",
   "metadata": {
    "jp-MarkdownHeadingCollapsed": true,
    "tags": []
   },
   "source": [
    "##### 5. Устанавливаем Jupyter Lab/Notebook"
   ]
  },
  {
   "cell_type": "markdown",
   "id": "ffb26579-1cb2-41de-85f6-d013486aabfc",
   "metadata": {},
   "source": [
    "```bash\n",
    "python -m pip install jupyter\n",
    "```\n",
    "\n",
    "![alt text](./pictures/0_6_installing_jupyter.png)"
   ]
  },
  {
   "cell_type": "markdown",
   "id": "8bc65827-341b-4750-86be-c56e528763ed",
   "metadata": {},
   "source": [
    "или"
   ]
  },
  {
   "cell_type": "markdown",
   "id": "1f5ce0b3-535c-4fb4-98f3-a8217edc98c3",
   "metadata": {
    "tags": []
   },
   "source": [
    "```bash\n",
    "python -m pip install jupyterlab\n",
    "```\n",
    "\n",
    "![alt text](./pictures/0_6_installing_jupyterlab.png)"
   ]
  },
  {
   "cell_type": "markdown",
   "id": "53e61fe8-6310-4067-83e1-6d477d066db3",
   "metadata": {
    "tags": []
   },
   "source": [
    "##### 6. Запускаем Jupyter Lab/Notebook"
   ]
  },
  {
   "cell_type": "markdown",
   "id": "2272ce52-0174-428b-9216-24d9a125a41e",
   "metadata": {
    "tags": []
   },
   "source": [
    "```bash\n",
    "python -m jupyter lab\n",
    "```\n",
    "\n",
    "![alt text](./pictures/0_6_run_jupyter_lab.png)"
   ]
  },
  {
   "cell_type": "markdown",
   "id": "cacb8c27-06d1-4269-a661-b78ad8877bd0",
   "metadata": {},
   "source": [
    "или "
   ]
  },
  {
   "cell_type": "markdown",
   "id": "ac8ff6c9-9e49-4284-b9d7-cb3f17efefd1",
   "metadata": {},
   "source": [
    "```bash\n",
    "python -m jupyter notebook\n",
    "```\n",
    "\n",
    "![alt text](./pictures/0_6_run_jupyter_notebook.png)"
   ]
  },
  {
   "cell_type": "markdown",
   "id": "bddc2b4b-95c1-485c-9d91-b9a03cef7456",
   "metadata": {
    "tags": []
   },
   "source": [
    "## Операции с целыми числами"
   ]
  },
  {
   "cell_type": "markdown",
   "id": "eee797b6-28c2-4393-97d5-1a5bebf509d5",
   "metadata": {},
   "source": [
    "Целые числа в Python - **int**\n",
    "\n",
    "\n",
    "| Операция | Знак | Пример | Результат |\n",
    "| ---------|------|--------|---------- |\n",
    "| Сложение | +    | ```34+354``` |       ```388``` |\n",
    "| Вычитание  | - | ```234-567``` | ```-333``` |\n",
    "| Умножение | * | ```111*7``` | ```777```|\n"
   ]
  },
  {
   "cell_type": "code",
   "execution_count": 1,
   "id": "1d2af28b-7bc5-4418-aeec-b67adcd22b25",
   "metadata": {},
   "outputs": [
    {
     "data": {
      "text/plain": [
       "12"
      ]
     },
     "execution_count": 1,
     "metadata": {},
     "output_type": "execute_result"
    }
   ],
   "source": [
    "# сложение\n",
    "4+8"
   ]
  },
  {
   "cell_type": "code",
   "execution_count": 2,
   "id": "f6d3e5f4-6f0c-4a29-9c67-911473c9ab3e",
   "metadata": {
    "tags": []
   },
   "outputs": [
    {
     "data": {
      "text/plain": [
       "-333"
      ]
     },
     "execution_count": 2,
     "metadata": {},
     "output_type": "execute_result"
    }
   ],
   "source": [
    "# вычитание\n",
    "234-567"
   ]
  },
  {
   "cell_type": "code",
   "execution_count": 3,
   "id": "ced03cb0-06f0-4c1c-8234-bc67daa4757f",
   "metadata": {
    "tags": []
   },
   "outputs": [
    {
     "data": {
      "text/plain": [
       "21"
      ]
     },
     "execution_count": 3,
     "metadata": {},
     "output_type": "execute_result"
    }
   ],
   "source": [
    "# умножение\n",
    "3 * 7"
   ]
  },
  {
   "cell_type": "code",
   "execution_count": 4,
   "id": "81cb414c-1d4b-402b-a32b-8afaf4968fac",
   "metadata": {},
   "outputs": [
    {
     "data": {
      "text/plain": [
       "12812904"
      ]
     },
     "execution_count": 4,
     "metadata": {},
     "output_type": "execute_result"
    }
   ],
   "source": [
    "# возведение в степень\n",
    "234 ** 3"
   ]
  },
  {
   "cell_type": "code",
   "execution_count": 5,
   "id": "da36cbd5-1dd2-4465-acc6-6e3fa1cdab4c",
   "metadata": {},
   "outputs": [
    {
     "data": {
      "text/plain": [
       "14285.714285714286"
      ]
     },
     "execution_count": 5,
     "metadata": {},
     "output_type": "execute_result"
    }
   ],
   "source": [
    "# деление\n",
    "100_000 / 7"
   ]
  },
  {
   "cell_type": "code",
   "execution_count": 6,
   "id": "8a901497-e33f-42e9-bd97-7bb133ba81da",
   "metadata": {},
   "outputs": [
    {
     "data": {
      "text/plain": [
       "14285"
      ]
     },
     "execution_count": 6,
     "metadata": {},
     "output_type": "execute_result"
    }
   ],
   "source": [
    "# целочисленное деление\n",
    "100_000 // 7"
   ]
  },
  {
   "cell_type": "code",
   "execution_count": 7,
   "id": "03352aca-2fef-4cfc-98bf-38a518b3f468",
   "metadata": {},
   "outputs": [
    {
     "data": {
      "text/plain": [
       "5"
      ]
     },
     "execution_count": 7,
     "metadata": {},
     "output_type": "execute_result"
    }
   ],
   "source": [
    "# остаток от деления\n",
    "100_000 % 7"
   ]
  },
  {
   "cell_type": "code",
   "execution_count": 8,
   "id": "0d886854-3cf7-4dde-9d0d-adffc24458ff",
   "metadata": {},
   "outputs": [
    {
     "data": {
      "text/plain": [
       "12"
      ]
     },
     "execution_count": 8,
     "metadata": {},
     "output_type": "execute_result"
    }
   ],
   "source": [
    "# последовательность операций\n",
    "3 + 3 * 3"
   ]
  },
  {
   "cell_type": "code",
   "execution_count": 9,
   "id": "743d59ef-c3f0-4245-9410-aefae22ec8b9",
   "metadata": {},
   "outputs": [
    {
     "data": {
      "text/plain": [
       "18"
      ]
     },
     "execution_count": 9,
     "metadata": {},
     "output_type": "execute_result"
    }
   ],
   "source": [
    "(3+3)*3"
   ]
  },
  {
   "cell_type": "code",
   "execution_count": 10,
   "id": "4a0170bd-aca5-4726-8881-10d2f583a89b",
   "metadata": {},
   "outputs": [
    {
     "data": {
      "text/plain": [
       "-34"
      ]
     },
     "execution_count": 10,
     "metadata": {},
     "output_type": "execute_result"
    }
   ],
   "source": [
    "# отрицательные числа\n",
    "-34"
   ]
  },
  {
   "cell_type": "code",
   "execution_count": 11,
   "id": "4c9fd2fa-ec9f-4a0c-b7e1-d2f5af3e5d1b",
   "metadata": {},
   "outputs": [
    {
     "data": {
      "text/plain": [
       "-34"
      ]
     },
     "execution_count": 11,
     "metadata": {},
     "output_type": "execute_result"
    }
   ],
   "source": [
    "+-+34"
   ]
  },
  {
   "cell_type": "markdown",
   "id": "0045744e-89dc-4388-881f-c52d2541d728",
   "metadata": {},
   "source": [
    "### Приведение к целому числу"
   ]
  },
  {
   "cell_type": "code",
   "execution_count": 12,
   "id": "a966a20f-422a-4eb8-affd-e7c58fd8b48e",
   "metadata": {},
   "outputs": [
    {
     "data": {
      "text/plain": [
       "(234, 234, 1, 0)"
      ]
     },
     "execution_count": 12,
     "metadata": {},
     "output_type": "execute_result"
    }
   ],
   "source": [
    "# правильное\n",
    "int(234.34), int('234'), int(True), int(False)"
   ]
  },
  {
   "cell_type": "code",
   "execution_count": 13,
   "id": "658535c1-c7fa-4592-b8b7-7d6844a01062",
   "metadata": {
    "tags": []
   },
   "outputs": [
    {
     "ename": "ValueError",
     "evalue": "invalid literal for int() with base 10: '234.34'",
     "output_type": "error",
     "traceback": [
      "\u001b[1;31m---------------------------------------------------------------------------\u001b[0m",
      "\u001b[1;31mValueError\u001b[0m                                Traceback (most recent call last)",
      "\u001b[1;32mC:\\Users\\SNATAL~1\\AppData\\Local\\Temp/ipykernel_11656/53910398.py\u001b[0m in \u001b[0;36m<module>\u001b[1;34m\u001b[0m\n\u001b[0;32m      1\u001b[0m \u001b[1;31m# неправильное\u001b[0m\u001b[1;33m\u001b[0m\u001b[1;33m\u001b[0m\u001b[1;33m\u001b[0m\u001b[0m\n\u001b[1;32m----> 2\u001b[1;33m \u001b[0mint\u001b[0m\u001b[1;33m(\u001b[0m\u001b[1;34m'234.34'\u001b[0m\u001b[1;33m)\u001b[0m\u001b[1;33m\u001b[0m\u001b[1;33m\u001b[0m\u001b[0m\n\u001b[0m",
      "\u001b[1;31mValueError\u001b[0m: invalid literal for int() with base 10: '234.34'"
     ]
    }
   ],
   "source": [
    "# неправильное\n",
    "int('234.34')"
   ]
  },
  {
   "cell_type": "markdown",
   "id": "27353ef4-3c3d-49be-bf48-74c1993cff4e",
   "metadata": {
    "tags": []
   },
   "source": [
    "## Операции с вещественными числами"
   ]
  },
  {
   "cell_type": "code",
   "execution_count": 37,
   "id": "a2bdcbdf-4280-498e-a99f-a99043e766ff",
   "metadata": {},
   "outputs": [
    {
     "data": {
      "text/plain": [
       "float"
      ]
     },
     "execution_count": 37,
     "metadata": {},
     "output_type": "execute_result"
    }
   ],
   "source": [
    "a = 234.34 # вещественное число (число с точкой, число с плавающей точкой)\n",
    "type(a)"
   ]
  },
  {
   "cell_type": "code",
   "execution_count": 53,
   "id": "21b6bdd0-4d58-4ec8-91e1-7af15b8edb2a",
   "metadata": {},
   "outputs": [
    {
     "data": {
      "text/plain": [
       "float"
      ]
     },
     "execution_count": 53,
     "metadata": {},
     "output_type": "execute_result"
    }
   ],
   "source": [
    "a = 83.0  # тоже вещественное хоть и на ноль\n",
    "type(a)"
   ]
  },
  {
   "cell_type": "code",
   "execution_count": 40,
   "id": "f4613872-13d7-40a8-bc0a-919c499fdf6e",
   "metadata": {},
   "outputs": [
    {
     "data": {
      "text/plain": [
       "356.34"
      ]
     },
     "execution_count": 40,
     "metadata": {},
     "output_type": "execute_result"
    }
   ],
   "source": [
    "273.34 + a"
   ]
  },
  {
   "cell_type": "code",
   "execution_count": 54,
   "id": "deaa7991-8ea2-4002-b8aa-159466f3b2d5",
   "metadata": {},
   "outputs": [
    {
     "data": {
      "text/plain": [
       "6.165789473684211"
      ]
     },
     "execution_count": 54,
     "metadata": {},
     "output_type": "execute_result"
    }
   ],
   "source": [
    "234.3 / 38"
   ]
  },
  {
   "cell_type": "code",
   "execution_count": 43,
   "id": "2fa8b0f7-ee1b-48e2-a86b-7c627e80a295",
   "metadata": {},
   "outputs": [
    {
     "data": {
      "text/plain": [
       "1509177.2042429412"
      ]
     },
     "execution_count": 43,
     "metadata": {},
     "output_type": "execute_result"
    }
   ],
   "source": [
    "6439.29344303 * 234.37"
   ]
  },
  {
   "cell_type": "code",
   "execution_count": 44,
   "id": "7387476a-a51e-4160-99a6-18f71dd11caa",
   "metadata": {},
   "outputs": [
    {
     "data": {
      "text/plain": [
       "(2343.34, 324.0, inf)"
      ]
     },
     "execution_count": 44,
     "metadata": {},
     "output_type": "execute_result"
    }
   ],
   "source": [
    "float('2343.34'), float('324'), float('inf')"
   ]
  },
  {
   "cell_type": "code",
   "execution_count": 46,
   "id": "51d965c6-94d9-4b63-9019-4d318c15511c",
   "metadata": {},
   "outputs": [
    {
     "data": {
      "text/plain": [
       "True"
      ]
     },
     "execution_count": 46,
     "metadata": {},
     "output_type": "execute_result"
    }
   ],
   "source": [
    "inf = float('inf')\n",
    "inf > 99999999999999999999999999999999999999999999999999999999999999999999999999999999999999999999999999999999999"
   ]
  },
  {
   "cell_type": "code",
   "execution_count": 50,
   "id": "063a8056-907f-4e62-939b-38428db7c8c1",
   "metadata": {},
   "outputs": [
    {
     "data": {
      "text/plain": [
       "True"
      ]
     },
     "execution_count": 50,
     "metadata": {},
     "output_type": "execute_result"
    }
   ],
   "source": [
    "-inf < -99999999999999999999999999999999999999999999999999999999999999999999999999999999999999999999999999999999999999999999"
   ]
  },
  {
   "cell_type": "code",
   "execution_count": 52,
   "id": "3230f77c-aafb-457d-8fe1-dc3dda562441",
   "metadata": {},
   "outputs": [
    {
     "data": {
      "text/plain": [
       "float"
      ]
     },
     "execution_count": 52,
     "metadata": {},
     "output_type": "execute_result"
    }
   ],
   "source": [
    "type(inf)"
   ]
  },
  {
   "cell_type": "markdown",
   "id": "326b2c4f-d16b-4704-9fdf-e11864a3b30d",
   "metadata": {
    "jp-MarkdownHeadingCollapsed": true,
    "tags": []
   },
   "source": [
    "## Типы данных"
   ]
  },
  {
   "cell_type": "markdown",
   "id": "c2df499d-b662-4d54-b96b-34b67bd51442",
   "metadata": {
    "tags": []
   },
   "source": [
    "### Простые типы данных\n"
   ]
  },
  {
   "cell_type": "markdown",
   "id": "96628d4f-7c90-4f84-ab79-6453cfce51a4",
   "metadata": {},
   "source": [
    "#### Числовые типы\n",
    "\n",
    "```float```, ```int```, ```bool```"
   ]
  },
  {
   "cell_type": "code",
   "execution_count": null,
   "id": "64650220-ab7f-4bad-8b8b-d25811d2ff5f",
   "metadata": {},
   "outputs": [],
   "source": [
    "34.324 + 324 + True"
   ]
  },
  {
   "cell_type": "code",
   "execution_count": null,
   "id": "891f98d8-4f99-4436-b123-336f9be99129",
   "metadata": {},
   "outputs": [],
   "source": [
    "True * 8 + False * 7 + 281.2"
   ]
  },
  {
   "cell_type": "markdown",
   "id": "8a707c4d-7afb-4577-a84f-6db2adc588f4",
   "metadata": {
    "jp-MarkdownHeadingCollapsed": true,
    "tags": []
   },
   "source": [
    "#### None"
   ]
  },
  {
   "cell_type": "code",
   "execution_count": 11,
   "id": "33a62153-f1e6-4007-b2d8-903be92fcd09",
   "metadata": {},
   "outputs": [
    {
     "data": {
      "text/plain": [
       "True"
      ]
     },
     "execution_count": 11,
     "metadata": {},
     "output_type": "execute_result"
    }
   ],
   "source": [
    "None is None"
   ]
  },
  {
   "cell_type": "markdown",
   "id": "aaf439b3-13ff-46ab-a5fd-9bd498ba1016",
   "metadata": {
    "jp-MarkdownHeadingCollapsed": true,
    "tags": []
   },
   "source": [
    "#### Строка\n",
    "\n",
    "```str```"
   ]
  },
  {
   "cell_type": "code",
   "execution_count": null,
   "id": "0bbdcfd3-971c-43ac-a174-c5eefe3d364f",
   "metadata": {},
   "outputs": [],
   "source": [
    "\"Hello, world\""
   ]
  },
  {
   "cell_type": "code",
   "execution_count": null,
   "id": "a95ed9d0-2644-4f80-b5c6-2584b304d750",
   "metadata": {},
   "outputs": [],
   "source": [
    "'d'"
   ]
  },
  {
   "cell_type": "code",
   "execution_count": null,
   "id": "64c3e19c-dba6-4d96-8b9d-20b8c4b541ae",
   "metadata": {},
   "outputs": [],
   "source": [
    "type('d'), type('Hello, world!')"
   ]
  },
  {
   "cell_type": "code",
   "execution_count": null,
   "id": "a13d5cff-b427-4093-ba8c-89cc594da00a",
   "metadata": {
    "tags": []
   },
   "outputs": [],
   "source": [
    "'Hello, ' + 'Петя'"
   ]
  },
  {
   "cell_type": "code",
   "execution_count": null,
   "id": "2fe2fc61-a9d6-4f47-94de-becd285bb4c0",
   "metadata": {},
   "outputs": [],
   "source": [
    "'hello, ' * 7 + 'colleagues'"
   ]
  },
  {
   "cell_type": "code",
   "execution_count": null,
   "id": "94a3d24a-2223-411c-9843-e09b3196d45d",
   "metadata": {
    "tags": []
   },
   "outputs": [],
   "source": [
    "str(7343), str(True), str(False), str(23434.342)"
   ]
  },
  {
   "cell_type": "code",
   "execution_count": null,
   "id": "1dbaf599-07d3-414a-80ea-4109f0c73c05",
   "metadata": {
    "tags": []
   },
   "outputs": [],
   "source": [
    "'apples: '+343*3+'; oranges: '+ 73-3"
   ]
  },
  {
   "cell_type": "code",
   "execution_count": null,
   "id": "5c977070-513e-4494-ae63-4fa976293981",
   "metadata": {},
   "outputs": [],
   "source": [
    "'apples: '+str(343*3)+'; oranges: '+ str(73-3)"
   ]
  },
  {
   "cell_type": "code",
   "execution_count": null,
   "id": "f6e999df-2322-4586-8222-bcfcf31438f0",
   "metadata": {},
   "outputs": [],
   "source": [
    " 'Hello, {}! Apples: {}'.format('Vasya',87)"
   ]
  },
  {
   "cell_type": "code",
   "execution_count": null,
   "id": "8472ddac-378e-4127-8eca-8f21c0885ed4",
   "metadata": {},
   "outputs": [],
   "source": [
    "f'Hello, {\"Vasya\"}! Apples: {39*3}'"
   ]
  },
  {
   "cell_type": "code",
   "execution_count": null,
   "id": "23d426f1-2665-4884-940f-63a21822df34",
   "metadata": {
    "tags": []
   },
   "outputs": [],
   "source": [
    "f'Hello, {'Vasya'}! Apples: {39*3}'"
   ]
  },
  {
   "cell_type": "code",
   "execution_count": null,
   "id": "57f0a380-b04b-4859-9a24-824506d2bd98",
   "metadata": {},
   "outputs": [],
   "source": [
    "len('Это должна быть очень длинная строка, количество символов в которой мы сейчас узнаем...')"
   ]
  },
  {
   "cell_type": "code",
   "execution_count": null,
   "id": "ef8035cc-0170-41ca-97c9-05076e511e65",
   "metadata": {},
   "outputs": [],
   "source": [
    "'word'[0], 'word'[1], 'word'[2], 'word'[3]"
   ]
  },
  {
   "cell_type": "code",
   "execution_count": null,
   "id": "1f6f2bfb-528c-4e87-9d36-6decd33c293e",
   "metadata": {},
   "outputs": [],
   "source": [
    "функции строк lower, upper, strip, join, split, index, "
   ]
  },
  {
   "cell_type": "markdown",
   "id": "fde3a43a-f25c-4c2e-83ed-41732f8d73e7",
   "metadata": {
    "jp-MarkdownHeadingCollapsed": true,
    "tags": []
   },
   "source": [
    "#### Функции строк"
   ]
  },
  {
   "cell_type": "code",
   "execution_count": 14,
   "id": "fe42aaa2-d873-4be6-8b3a-57a9577c3548",
   "metadata": {
    "tags": []
   },
   "outputs": [],
   "source": [
    "s = 'Hello, world!'"
   ]
  },
  {
   "cell_type": "code",
   "execution_count": 15,
   "id": "dfe91a77-8aeb-4ddf-bb95-da23736cee9a",
   "metadata": {},
   "outputs": [
    {
     "data": {
      "text/plain": [
       "'hello, world!'"
      ]
     },
     "execution_count": 15,
     "metadata": {},
     "output_type": "execute_result"
    }
   ],
   "source": [
    "s.lower()"
   ]
  },
  {
   "cell_type": "code",
   "execution_count": 16,
   "id": "1235bbcd-a84a-4561-ab2d-2b06611ac7e9",
   "metadata": {},
   "outputs": [
    {
     "data": {
      "text/plain": [
       "'HELLO, WORLD!'"
      ]
     },
     "execution_count": 16,
     "metadata": {},
     "output_type": "execute_result"
    }
   ],
   "source": [
    "s.upper()"
   ]
  },
  {
   "cell_type": "code",
   "execution_count": 18,
   "id": "276e566d-ff3c-4fb2-9ab8-9ba5b08c6580",
   "metadata": {},
   "outputs": [
    {
     "data": {
      "text/plain": [
       "'Hello, world!'"
      ]
     },
     "execution_count": 18,
     "metadata": {},
     "output_type": "execute_result"
    }
   ],
   "source": [
    "s = 'hello, world!'\n",
    "s.capitalize()"
   ]
  },
  {
   "cell_type": "code",
   "execution_count": 20,
   "id": "86ab48f8-fd5b-4b4d-9e72-d550a6692762",
   "metadata": {},
   "outputs": [
    {
     "data": {
      "text/plain": [
       "'Hello, world!'"
      ]
     },
     "execution_count": 20,
     "metadata": {},
     "output_type": "execute_result"
    }
   ],
   "source": [
    "s = '      Hello, world!     '\n",
    "s.strip()"
   ]
  },
  {
   "cell_type": "code",
   "execution_count": 24,
   "id": "aa20681b-d687-4eca-8f2f-4fa813d7c38f",
   "metadata": {},
   "outputs": [
    {
     "data": {
      "text/plain": [
       "'hello|world|1|2|3|4'"
      ]
     },
     "execution_count": 24,
     "metadata": {},
     "output_type": "execute_result"
    }
   ],
   "source": [
    "'|'.join(['hello','world', '1','2','3','4'])"
   ]
  },
  {
   "cell_type": "code",
   "execution_count": 26,
   "id": "61c19b4a-9125-4ba6-8d48-6ab5554da6a5",
   "metadata": {},
   "outputs": [
    {
     "data": {
      "text/plain": [
       "['hello', ' world', ' world', ' world!']"
      ]
     },
     "execution_count": 26,
     "metadata": {},
     "output_type": "execute_result"
    }
   ],
   "source": [
    "s = 'hello, world, world, world!'\n",
    "s.split(',')"
   ]
  },
  {
   "cell_type": "code",
   "execution_count": 29,
   "id": "b4198b1e-0c94-4c27-a594-1fdec2c1dc7a",
   "metadata": {},
   "outputs": [
    {
     "data": {
      "text/plain": [
       "7"
      ]
     },
     "execution_count": 29,
     "metadata": {},
     "output_type": "execute_result"
    }
   ],
   "source": [
    "s = 'hello, world'\n",
    "s.index('e'), s.index('w')"
   ]
  },
  {
   "cell_type": "code",
   "execution_count": 30,
   "id": "b8c90e5c-b31c-4ae3-904a-2e92eced3160",
   "metadata": {},
   "outputs": [
    {
     "ename": "ValueError",
     "evalue": "substring not found",
     "output_type": "error",
     "traceback": [
      "\u001b[1;31m---------------------------------------------------------------------------\u001b[0m",
      "\u001b[1;31mValueError\u001b[0m                                Traceback (most recent call last)",
      "\u001b[1;32mC:\\Users\\SNATAL~1\\AppData\\Local\\Temp/ipykernel_9372/589220010.py\u001b[0m in \u001b[0;36m<module>\u001b[1;34m\u001b[0m\n\u001b[1;32m----> 1\u001b[1;33m \u001b[0ms\u001b[0m\u001b[1;33m.\u001b[0m\u001b[0mindex\u001b[0m\u001b[1;33m(\u001b[0m\u001b[1;34m'u'\u001b[0m\u001b[1;33m)\u001b[0m\u001b[1;33m\u001b[0m\u001b[1;33m\u001b[0m\u001b[0m\n\u001b[0m",
      "\u001b[1;31mValueError\u001b[0m: substring not found"
     ]
    }
   ],
   "source": [
    "s.index('u')"
   ]
  },
  {
   "cell_type": "markdown",
   "id": "562538ef-7822-4a5f-b802-4e9801c1f1e6",
   "metadata": {
    "jp-MarkdownHeadingCollapsed": true,
    "tags": []
   },
   "source": [
    "#### Срезы"
   ]
  },
  {
   "cell_type": "code",
   "execution_count": 9,
   "id": "51af4524-0cce-4dfc-9690-3899851d37fa",
   "metadata": {},
   "outputs": [
    {
     "data": {
      "text/plain": [
       "'Hello, wor'"
      ]
     },
     "execution_count": 9,
     "metadata": {},
     "output_type": "execute_result"
    }
   ],
   "source": [
    "'Hello, world'[:10]"
   ]
  },
  {
   "cell_type": "code",
   "execution_count": 8,
   "id": "a48ae0c8-577f-4e79-8ecb-93963b1427aa",
   "metadata": {},
   "outputs": [
    {
     "data": {
      "text/plain": [
       "'llo, world'"
      ]
     },
     "execution_count": 8,
     "metadata": {},
     "output_type": "execute_result"
    }
   ],
   "source": [
    "'Hello, world'[2:]"
   ]
  },
  {
   "cell_type": "code",
   "execution_count": 7,
   "id": "4c57567b-b245-4ed7-b8e6-edfcb91bc91f",
   "metadata": {},
   "outputs": [
    {
     "data": {
      "text/plain": [
       "'llo, wor'"
      ]
     },
     "execution_count": 7,
     "metadata": {},
     "output_type": "execute_result"
    }
   ],
   "source": [
    "'Hello, world'[2:10]"
   ]
  },
  {
   "cell_type": "code",
   "execution_count": 12,
   "id": "b838b8cf-03ee-4323-b58e-1d42a5158ff5",
   "metadata": {
    "tags": []
   },
   "outputs": [
    {
     "data": {
      "text/plain": [
       "'d'"
      ]
     },
     "execution_count": 12,
     "metadata": {},
     "output_type": "execute_result"
    }
   ],
   "source": [
    "'Hello, world'[-1]"
   ]
  },
  {
   "cell_type": "code",
   "execution_count": 13,
   "id": "04f137ea-c396-4595-822f-40d20c5dd17b",
   "metadata": {},
   "outputs": [
    {
     "data": {
      "text/plain": [
       "'w'"
      ]
     },
     "execution_count": 13,
     "metadata": {},
     "output_type": "execute_result"
    }
   ],
   "source": [
    "'Hello, world'[-5]"
   ]
  },
  {
   "cell_type": "code",
   "execution_count": 10,
   "id": "7d41b9bc-9bac-4abb-89af-29360c72255e",
   "metadata": {},
   "outputs": [
    {
     "data": {
      "text/plain": [
       "'Hlo ol'"
      ]
     },
     "execution_count": 10,
     "metadata": {},
     "output_type": "execute_result"
    }
   ],
   "source": [
    "'Hello, world'[::2]"
   ]
  },
  {
   "cell_type": "code",
   "execution_count": null,
   "id": "ffce72a9-80c0-4500-9bd0-790bb241e0f6",
   "metadata": {},
   "outputs": [],
   "source": [
    "'Hello, world'[::-1]"
   ]
  },
  {
   "cell_type": "code",
   "execution_count": 6,
   "id": "98f6616f-11ce-41d5-9be6-e41ea1cc0b16",
   "metadata": {},
   "outputs": [
    {
     "data": {
      "text/plain": [
       "'drow ,ol'"
      ]
     },
     "execution_count": 6,
     "metadata": {},
     "output_type": "execute_result"
    }
   ],
   "source": [
    "'Hello, world'[10:2:-1]"
   ]
  },
  {
   "cell_type": "markdown",
   "id": "8c9a5a90-3e24-4efd-9faf-3f89ac28076f",
   "metadata": {
    "jp-MarkdownHeadingCollapsed": true,
    "tags": []
   },
   "source": [
    "## Переменные. Стандартный ввод/вывод"
   ]
  },
  {
   "cell_type": "code",
   "execution_count": null,
   "id": "dbfc3796-6251-47ea-bf5c-da4168934acc",
   "metadata": {},
   "outputs": [],
   "source": [
    "a = \"Hello, world\"\n",
    "b = 13\n",
    "c = 23.34\n",
    "d = False"
   ]
  },
  {
   "cell_type": "code",
   "execution_count": null,
   "id": "187c3ab6-e854-4e60-a5c5-0c8550768847",
   "metadata": {},
   "outputs": [],
   "source": [
    "print(a,b,c,d)"
   ]
  },
  {
   "cell_type": "code",
   "execution_count": 1,
   "id": "9b4b0138-caed-4407-80e7-9f09bfdaf2e9",
   "metadata": {},
   "outputs": [
    {
     "name": "stdin",
     "output_type": "stream",
     "text": [
      "Введите ваше имя: Sergey\n"
     ]
    },
    {
     "name": "stdout",
     "output_type": "stream",
     "text": [
      "привет, Sergey !\n",
      "<class 'str'>\n"
     ]
    }
   ],
   "source": [
    "your_name = input('Введите ваше имя:')\n",
    "print('привет,', your_name,'!')\n",
    "print(type(your_name))"
   ]
  },
  {
   "cell_type": "code",
   "execution_count": 2,
   "id": "8406f517-40ab-4df2-9351-2aa9c9c49658",
   "metadata": {},
   "outputs": [
    {
     "name": "stdin",
     "output_type": "stream",
     "text": [
      "Введите ваш возраст (полных лет): 21\n"
     ]
    },
    {
     "name": "stdout",
     "output_type": "stream",
     "text": [
      "Вам, 21 (года/год/лет)\n",
      "<class 'int'>\n"
     ]
    }
   ],
   "source": [
    "your_age = int(input('Введите ваш возраст (полных лет):'))\n",
    "print('Вам,', your_age, '(года/год/лет)')\n",
    "print(type(your_age))"
   ]
  },
  {
   "cell_type": "code",
   "execution_count": 3,
   "id": "d07d26db-e6d4-4bbd-b7f2-1b87db7c8199",
   "metadata": {},
   "outputs": [
    {
     "name": "stdin",
     "output_type": "stream",
     "text": [
      "Средний возраст аудитории: 23.5\n"
     ]
    },
    {
     "name": "stdout",
     "output_type": "stream",
     "text": [
      "23.5\n",
      "<class 'float'>\n"
     ]
    }
   ],
   "source": [
    "average_rate = float(input('Средний возраст аудитории:'))\n",
    "print(average_rate)\n",
    "print(type(average_rate))"
   ]
  },
  {
   "cell_type": "code",
   "execution_count": 4,
   "id": "54d09f9b-f315-4639-8829-9823e266a4d7",
   "metadata": {},
   "outputs": [
    {
     "name": "stdin",
     "output_type": "stream",
     "text": [
      " 1 2 3 4 5 6\n"
     ]
    },
    {
     "name": "stdout",
     "output_type": "stream",
     "text": [
      "[1, 2, 3, 4, 5, 6]\n",
      "21\n"
     ]
    }
   ],
   "source": [
    "# a = [1,2,3,4,5,6]\n",
    "a = list(map(int, input().split(' ')))\n",
    "print(a)\n",
    "print(sum(a))"
   ]
  },
  {
   "cell_type": "markdown",
   "id": "3f41fc3f-d7d4-4981-9f9d-c7ba814f902a",
   "metadata": {
    "jp-MarkdownHeadingCollapsed": true,
    "tags": []
   },
   "source": [
    "## Логические операции, операции сравнения"
   ]
  },
  {
   "cell_type": "code",
   "execution_count": 26,
   "id": "1f5cb793-8794-463d-8e7e-6adc9022b79d",
   "metadata": {},
   "outputs": [
    {
     "data": {
      "text/plain": [
       "True"
      ]
     },
     "execution_count": 26,
     "metadata": {},
     "output_type": "execute_result"
    }
   ],
   "source": [
    "17 > 0"
   ]
  },
  {
   "cell_type": "code",
   "execution_count": 27,
   "id": "51c78315-9ec5-4162-b6a1-c162553206e4",
   "metadata": {
    "tags": []
   },
   "outputs": [
    {
     "data": {
      "text/plain": [
       "False"
      ]
     },
     "execution_count": 27,
     "metadata": {},
     "output_type": "execute_result"
    }
   ],
   "source": [
    "34 < 3"
   ]
  },
  {
   "cell_type": "code",
   "execution_count": 28,
   "id": "f4721c37-0a9f-49c7-ae2d-957f2c8321bd",
   "metadata": {},
   "outputs": [
    {
     "data": {
      "text/plain": [
       "False"
      ]
     },
     "execution_count": 28,
     "metadata": {},
     "output_type": "execute_result"
    }
   ],
   "source": [
    "23 == 24"
   ]
  },
  {
   "cell_type": "code",
   "execution_count": 29,
   "id": "38b07ee7-ca01-4242-bc16-078b3903f0a9",
   "metadata": {
    "tags": []
   },
   "outputs": [
    {
     "data": {
      "text/plain": [
       "True"
      ]
     },
     "execution_count": 29,
     "metadata": {},
     "output_type": "execute_result"
    }
   ],
   "source": [
    "17 >= 8"
   ]
  },
  {
   "cell_type": "code",
   "execution_count": 30,
   "id": "d70b512d-e936-4e61-af12-5778584462d8",
   "metadata": {},
   "outputs": [
    {
     "data": {
      "text/plain": [
       "False"
      ]
     },
     "execution_count": 30,
     "metadata": {},
     "output_type": "execute_result"
    }
   ],
   "source": [
    "28 <= 8"
   ]
  },
  {
   "cell_type": "code",
   "execution_count": 31,
   "id": "74ab5492-4421-47d0-8f0a-8dee021acfae",
   "metadata": {},
   "outputs": [
    {
     "data": {
      "text/plain": [
       "True"
      ]
     },
     "execution_count": 31,
     "metadata": {},
     "output_type": "execute_result"
    }
   ],
   "source": [
    "7 <= 10 <= 23"
   ]
  },
  {
   "cell_type": "code",
   "execution_count": 32,
   "id": "a43c6f9c-d789-4b8b-ab18-608b1a9c6356",
   "metadata": {},
   "outputs": [
    {
     "data": {
      "text/plain": [
       "False"
      ]
     },
     "execution_count": 32,
     "metadata": {},
     "output_type": "execute_result"
    }
   ],
   "source": [
    "7 <= 6 <= 23"
   ]
  },
  {
   "cell_type": "code",
   "execution_count": 33,
   "id": "80a0ca32-b5a0-4e11-97fc-7ab58745b138",
   "metadata": {},
   "outputs": [
    {
     "data": {
      "text/plain": [
       "True"
      ]
     },
     "execution_count": 33,
     "metadata": {},
     "output_type": "execute_result"
    }
   ],
   "source": [
    "(3 < 8) and (4 > 2)"
   ]
  },
  {
   "cell_type": "code",
   "execution_count": 34,
   "id": "92f91187-c499-4542-8e51-80ca9970da09",
   "metadata": {},
   "outputs": [
    {
     "data": {
      "text/plain": [
       "False"
      ]
     },
     "execution_count": 34,
     "metadata": {},
     "output_type": "execute_result"
    }
   ],
   "source": [
    "x = 7\n",
    "\n",
    "x < 0 or x > 8"
   ]
  },
  {
   "cell_type": "code",
   "execution_count": 35,
   "id": "ceadeea1-0146-4eef-a914-695afb9343ba",
   "metadata": {},
   "outputs": [
    {
     "data": {
      "text/plain": [
       "True"
      ]
     },
     "execution_count": 35,
     "metadata": {},
     "output_type": "execute_result"
    }
   ],
   "source": [
    "x = 9\n",
    "\n",
    "x < 0 or x > 8"
   ]
  },
  {
   "cell_type": "code",
   "execution_count": 36,
   "id": "be496031-10c1-45b4-8567-9a513c56313b",
   "metadata": {},
   "outputs": [
    {
     "data": {
      "text/plain": [
       "False"
      ]
     },
     "execution_count": 36,
     "metadata": {},
     "output_type": "execute_result"
    }
   ],
   "source": [
    "a = 'house'\n",
    "b = 'home'\n",
    "a == b"
   ]
  },
  {
   "cell_type": "code",
   "execution_count": 37,
   "id": "09767bf7-4b56-4f6a-9a21-fa1d7758773d",
   "metadata": {},
   "outputs": [
    {
     "data": {
      "text/plain": [
       "True"
      ]
     },
     "execution_count": 37,
     "metadata": {},
     "output_type": "execute_result"
    }
   ],
   "source": [
    "a = 'house'\n",
    "b = 'house'\n",
    "a == b"
   ]
  },
  {
   "cell_type": "code",
   "execution_count": 40,
   "id": "ec6168a2-959a-486e-bb8a-883329202333",
   "metadata": {},
   "outputs": [
    {
     "data": {
      "text/plain": [
       "True"
      ]
     },
     "execution_count": 40,
     "metadata": {},
     "output_type": "execute_result"
    }
   ],
   "source": [
    "a = None\n",
    "\n",
    "a == None"
   ]
  },
  {
   "cell_type": "code",
   "execution_count": 42,
   "id": "8c0e291a-c820-46e4-9612-7c39aed6638e",
   "metadata": {},
   "outputs": [
    {
     "ename": "TypeError",
     "evalue": "'>' not supported between instances of 'int' and 'NoneType'",
     "output_type": "error",
     "traceback": [
      "\u001b[1;31m---------------------------------------------------------------------------\u001b[0m",
      "\u001b[1;31mTypeError\u001b[0m                                 Traceback (most recent call last)",
      "\u001b[1;32mC:\\Users\\SNATAL~1\\AppData\\Local\\Temp/ipykernel_9428/2301923460.py\u001b[0m in \u001b[0;36m<module>\u001b[1;34m\u001b[0m\n\u001b[1;32m----> 1\u001b[1;33m \u001b[1;36m3\u001b[0m \u001b[1;33m>\u001b[0m \u001b[1;32mNone\u001b[0m\u001b[1;33m\u001b[0m\u001b[1;33m\u001b[0m\u001b[0m\n\u001b[0m",
      "\u001b[1;31mTypeError\u001b[0m: '>' not supported between instances of 'int' and 'NoneType'"
     ]
    }
   ],
   "source": [
    "3 > None"
   ]
  },
  {
   "cell_type": "code",
   "execution_count": 43,
   "id": "72332288-97ce-48d0-8075-1ad1f229219b",
   "metadata": {},
   "outputs": [
    {
     "ename": "TypeError",
     "evalue": "'<' not supported between instances of 'str' and 'NoneType'",
     "output_type": "error",
     "traceback": [
      "\u001b[1;31m---------------------------------------------------------------------------\u001b[0m",
      "\u001b[1;31mTypeError\u001b[0m                                 Traceback (most recent call last)",
      "\u001b[1;32mC:\\Users\\SNATAL~1\\AppData\\Local\\Temp/ipykernel_9428/691004237.py\u001b[0m in \u001b[0;36m<module>\u001b[1;34m\u001b[0m\n\u001b[1;32m----> 1\u001b[1;33m \u001b[1;34m'house'\u001b[0m \u001b[1;33m<\u001b[0m \u001b[1;32mNone\u001b[0m\u001b[1;33m\u001b[0m\u001b[1;33m\u001b[0m\u001b[0m\n\u001b[0m",
      "\u001b[1;31mTypeError\u001b[0m: '<' not supported between instances of 'str' and 'NoneType'"
     ]
    }
   ],
   "source": [
    "'house' < None"
   ]
  },
  {
   "cell_type": "code",
   "execution_count": 47,
   "id": "d86c6c56-c381-4d64-ab79-7034d964710d",
   "metadata": {},
   "outputs": [
    {
     "data": {
      "text/plain": [
       "True"
      ]
     },
     "execution_count": 47,
     "metadata": {},
     "output_type": "execute_result"
    }
   ],
   "source": [
    "'house' > 'home'"
   ]
  },
  {
   "cell_type": "code",
   "execution_count": 46,
   "id": "d16e772c-3508-45c2-b808-a26e09d05928",
   "metadata": {},
   "outputs": [
    {
     "data": {
      "text/plain": [
       "False"
      ]
     },
     "execution_count": 46,
     "metadata": {},
     "output_type": "execute_result"
    }
   ],
   "source": [
    "'house' > 'houu'"
   ]
  },
  {
   "cell_type": "markdown",
   "id": "079a71fc-a7b2-4d98-b94c-7fc59e172777",
   "metadata": {
    "jp-MarkdownHeadingCollapsed": true,
    "tags": []
   },
   "source": [
    "## Условия: if, else, elif. Блоки, отступы"
   ]
  },
  {
   "cell_type": "code",
   "execution_count": 50,
   "id": "f4053ec7-cef6-4d9f-a12d-980445abd22c",
   "metadata": {},
   "outputs": [
    {
     "name": "stdin",
     "output_type": "stream",
     "text": [
      "Введите x: 20\n"
     ]
    },
    {
     "name": "stdout",
     "output_type": "stream",
     "text": [
      "Число больше 10!\n"
     ]
    }
   ],
   "source": [
    "x = int(input('Введите x:'))\n",
    "if x > 10:\n",
    "    print('Число больше 10!')\n",
    "else:\n",
    "    print('Число меньше или равно 10!')"
   ]
  },
  {
   "cell_type": "code",
   "execution_count": 51,
   "id": "22dffed1-c5fa-4b08-b21c-e6692a71dec0",
   "metadata": {},
   "outputs": [
    {
     "name": "stdout",
     "output_type": "stream",
     "text": [
      "Условие не выполнилось\n",
      "10\n"
     ]
    }
   ],
   "source": [
    "x = 10\n",
    "if x > 10:  # проверяемое условие\n",
    "    print('Условие выполнилось')  # первый отступ по if выполняется когда условие равно True\n",
    "else:  # логическое отрицаение проверяемого условия\n",
    "    print('Условие не выполнилось')\n",
    "    \n",
    "print(x) # часть после условия выполняется как обычно"
   ]
  },
  {
   "cell_type": "code",
   "execution_count": 55,
   "id": "f4290b1e-d23c-459a-a837-e1e223a8d783",
   "metadata": {},
   "outputs": [
    {
     "name": "stdin",
     "output_type": "stream",
     "text": [
      "Введите x: 30\n"
     ]
    },
    {
     "name": "stdout",
     "output_type": "stream",
     "text": [
      "x > 1\n"
     ]
    }
   ],
   "source": [
    "x = float(input('Введите x:'))\n",
    "\n",
    "if x < 0: # первое проверяемое условие\n",
    "    print('x < 0')\n",
    "elif x > 1: # второе условие: если первое условие False проверяем второе\n",
    "    print('x > 1')\n",
    "else: # если и первое, и второе условие False\n",
    "    print('0 <= x <= 1')\n"
   ]
  },
  {
   "cell_type": "code",
   "execution_count": 4,
   "id": "f21d2878-4f71-4d24-8d85-558868004b8e",
   "metadata": {},
   "outputs": [
    {
     "name": "stdin",
     "output_type": "stream",
     "text": [
      "Введите x: 11\n"
     ]
    },
    {
     "name": "stdout",
     "output_type": "stream",
     "text": [
      "x > 1\n"
     ]
    }
   ],
   "source": [
    "x = float(input('Введите x:'))\n",
    "\n",
    "if x > 1: # первое проверяемое условие        \n",
    "    print('x > 1')\n",
    "elif x > 10: # второе условие: если первое условие False проверяем второе\n",
    "    print('x > 10')\n",
    "else: # если и первое, и второе условие False\n",
    "    print('x <= 1 and x <= 10?')"
   ]
  },
  {
   "cell_type": "markdown",
   "id": "5da9b4e7-55e8-4abf-81d9-f6665d9b9ed2",
   "metadata": {
    "jp-MarkdownHeadingCollapsed": true,
    "tags": []
   },
   "source": [
    "## Циклы, генераторы"
   ]
  },
  {
   "cell_type": "markdown",
   "id": "7aa276e7-0374-4442-8f82-f9085e16fc82",
   "metadata": {
    "tags": []
   },
   "source": [
    "### for"
   ]
  },
  {
   "cell_type": "markdown",
   "id": "a5e3b1f8-8427-4fc8-b83c-9c2ab8dc0ee6",
   "metadata": {},
   "source": [
    "```python\n",
    "a = ['a','b','c','d']\n",
    "for i in a:\n",
    "    print(i)       # выводит каждый элемент а\n",
    "    \n",
    "```"
   ]
  },
  {
   "cell_type": "markdown",
   "id": "6ff48b9a-4c10-496f-9416-f181108fe622",
   "metadata": {},
   "source": [
    "```python\n",
    "for i in range(10):\n",
    "    print(i)       # выводит числа от 0 до 9\n",
    "```"
   ]
  },
  {
   "cell_type": "code",
   "execution_count": 1,
   "id": "0b8a8768-a5ed-43e2-87e7-07f9a8ec9acb",
   "metadata": {},
   "outputs": [
    {
     "name": "stdout",
     "output_type": "stream",
     "text": [
      "21\n"
     ]
    }
   ],
   "source": [
    "a = [1,2,3,4,5,6]\n",
    "s = 0\n",
    "for i in a:\n",
    "    s += i\n",
    "print(s)"
   ]
  },
  {
   "cell_type": "code",
   "execution_count": 1,
   "id": "9a7564b6-7d53-4df9-bdbf-586f728dcde0",
   "metadata": {
    "tags": []
   },
   "outputs": [
    {
     "name": "stdout",
     "output_type": "stream",
     "text": [
      "0\n",
      "1\n",
      "2\n",
      "3\n",
      "4\n",
      "5\n",
      "6\n",
      "8\n",
      "9\n"
     ]
    }
   ],
   "source": [
    "for i in range(10):\n",
    "    if i == 7:\n",
    "        continue\n",
    "    print(i)"
   ]
  },
  {
   "cell_type": "code",
   "execution_count": 2,
   "id": "ef9eeaad-d7e1-4b69-a51a-b7c3215a50eb",
   "metadata": {
    "tags": []
   },
   "outputs": [
    {
     "name": "stdout",
     "output_type": "stream",
     "text": [
      "4\n"
     ]
    }
   ],
   "source": [
    "a = [1,2,3,4,5,6,7,8,9,0]\n",
    "for i in range(len(a)):\n",
    "    if a[i] == 5:\n",
    "        print(i)\n",
    "        break"
   ]
  },
  {
   "cell_type": "markdown",
   "id": "cbf33649-c1c0-4f34-9689-085e1b252946",
   "metadata": {
    "tags": []
   },
   "source": [
    "### while"
   ]
  },
  {
   "cell_type": "code",
   "execution_count": 6,
   "id": "e8a2a21a-427b-495d-81e3-b52ccaf498ce",
   "metadata": {},
   "outputs": [
    {
     "name": "stdout",
     "output_type": "stream",
     "text": [
      "x = 13\n",
      "k = 6\n"
     ]
    }
   ],
   "source": [
    "x = -134\n",
    "k = 0\n",
    "while x < 0:\n",
    "    x += 21 \n",
    "    k += 1\n",
    "    \n",
    "print('x =', x)\n",
    "print('k =', k)"
   ]
  },
  {
   "cell_type": "code",
   "execution_count": 10,
   "id": "5cb13944-cb33-47cb-b08f-d45afba15335",
   "metadata": {},
   "outputs": [
    {
     "name": "stdout",
     "output_type": "stream",
     "text": [
      "x = 13\n",
      "k = 6\n"
     ]
    }
   ],
   "source": [
    "x = -134\n",
    "k = 0\n",
    "while x < 0:\n",
    "    x += 21 \n",
    "    if x == -113:\n",
    "        continue\n",
    "    k += 1\n",
    "    \n",
    "print('x =', x)\n",
    "print('k =', k)"
   ]
  },
  {
   "cell_type": "code",
   "execution_count": 11,
   "id": "ea35e900-2fd4-40b6-892e-490ae825afbe",
   "metadata": {},
   "outputs": [
    {
     "name": "stdout",
     "output_type": "stream",
     "text": [
      "x = -71\n",
      "k = 2\n"
     ]
    }
   ],
   "source": [
    "x = -134\n",
    "k = 0\n",
    "while x < 0:\n",
    "    x += 21 \n",
    "    if x == -71:\n",
    "        break\n",
    "    k += 1\n",
    "    \n",
    "print('x =', x)\n",
    "print('k =', k)"
   ]
  },
  {
   "cell_type": "code",
   "execution_count": 13,
   "id": "98d75dac-0c31-42ca-88b8-0f5eb4c9f825",
   "metadata": {
    "collapsed": true,
    "jupyter": {
     "outputs_hidden": true
    },
    "tags": []
   },
   "outputs": [
    {
     "name": "stdout",
     "output_type": "stream",
     "text": [
      "0:\tHello, world!\n",
      "1:\tHello, world!\n",
      "2:\tHello, world!\n",
      "3:\tHello, world!\n",
      "4:\tHello, world!\n",
      "5:\tHello, world!\n",
      "6:\tHello, world!\n",
      "7:\tHello, world!\n",
      "8:\tHello, world!\n",
      "9:\tHello, world!\n",
      "10:\tHello, world!\n",
      "11:\tHello, world!\n",
      "12:\tHello, world!\n",
      "13:\tHello, world!\n",
      "14:\tHello, world!\n",
      "15:\tHello, world!\n",
      "16:\tHello, world!\n",
      "17:\tHello, world!\n",
      "18:\tHello, world!\n",
      "19:\tHello, world!\n",
      "20:\tHello, world!\n",
      "21:\tHello, world!\n",
      "22:\tHello, world!\n",
      "23:\tHello, world!\n",
      "24:\tHello, world!\n",
      "25:\tHello, world!\n",
      "26:\tHello, world!\n",
      "27:\tHello, world!\n",
      "28:\tHello, world!\n",
      "29:\tHello, world!\n",
      "30:\tHello, world!\n",
      "31:\tHello, world!\n",
      "32:\tHello, world!\n",
      "33:\tHello, world!\n",
      "34:\tHello, world!\n",
      "35:\tHello, world!\n",
      "36:\tHello, world!\n",
      "37:\tHello, world!\n",
      "38:\tHello, world!\n",
      "39:\tHello, world!\n",
      "40:\tHello, world!\n",
      "41:\tHello, world!\n",
      "42:\tHello, world!\n",
      "43:\tHello, world!\n",
      "44:\tHello, world!\n",
      "45:\tHello, world!\n",
      "46:\tHello, world!\n",
      "47:\tHello, world!\n",
      "48:\tHello, world!\n",
      "49:\tHello, world!\n",
      "50:\tHello, world!\n",
      "51:\tHello, world!\n",
      "52:\tHello, world!\n",
      "53:\tHello, world!\n",
      "54:\tHello, world!\n",
      "55:\tHello, world!\n",
      "56:\tHello, world!\n",
      "57:\tHello, world!\n",
      "58:\tHello, world!\n",
      "59:\tHello, world!\n",
      "60:\tHello, world!\n",
      "61:\tHello, world!\n",
      "62:\tHello, world!\n",
      "63:\tHello, world!\n",
      "64:\tHello, world!\n",
      "65:\tHello, world!\n",
      "66:\tHello, world!\n",
      "67:\tHello, world!\n",
      "68:\tHello, world!\n",
      "69:\tHello, world!\n",
      "70:\tHello, world!\n",
      "71:\tHello, world!\n",
      "72:\tHello, world!\n",
      "73:\tHello, world!\n",
      "74:\tHello, world!\n",
      "75:\tHello, world!\n",
      "76:\tHello, world!\n",
      "77:\tHello, world!\n",
      "78:\tHello, world!\n",
      "79:\tHello, world!\n",
      "80:\tHello, world!\n",
      "81:\tHello, world!\n",
      "82:\tHello, world!\n",
      "83:\tHello, world!\n",
      "84:\tHello, world!\n",
      "85:\tHello, world!\n",
      "86:\tHello, world!\n",
      "87:\tHello, world!\n",
      "88:\tHello, world!\n",
      "89:\tHello, world!\n",
      "90:\tHello, world!\n",
      "91:\tHello, world!\n",
      "92:\tHello, world!\n",
      "93:\tHello, world!\n",
      "94:\tHello, world!\n",
      "95:\tHello, world!\n",
      "96:\tHello, world!\n",
      "97:\tHello, world!\n",
      "98:\tHello, world!\n",
      "99:\tHello, world!\n",
      "100:\tHello, world!\n",
      "101:\tHello, world!\n",
      "102:\tHello, world!\n",
      "103:\tHello, world!\n",
      "104:\tHello, world!\n",
      "105:\tHello, world!\n",
      "106:\tHello, world!\n",
      "107:\tHello, world!\n",
      "108:\tHello, world!\n",
      "109:\tHello, world!\n",
      "110:\tHello, world!\n",
      "111:\tHello, world!\n",
      "112:\tHello, world!\n",
      "113:\tHello, world!\n",
      "114:\tHello, world!\n",
      "115:\tHello, world!\n",
      "116:\tHello, world!\n",
      "117:\tHello, world!\n",
      "118:\tHello, world!\n",
      "119:\tHello, world!\n",
      "120:\tHello, world!\n",
      "121:\tHello, world!\n",
      "122:\tHello, world!\n",
      "123:\tHello, world!\n",
      "124:\tHello, world!\n",
      "125:\tHello, world!\n",
      "126:\tHello, world!\n",
      "127:\tHello, world!\n",
      "128:\tHello, world!\n",
      "129:\tHello, world!\n",
      "130:\tHello, world!\n",
      "131:\tHello, world!\n",
      "132:\tHello, world!\n",
      "133:\tHello, world!\n",
      "134:\tHello, world!\n",
      "135:\tHello, world!\n",
      "136:\tHello, world!\n",
      "137:\tHello, world!\n",
      "138:\tHello, world!\n",
      "139:\tHello, world!\n"
     ]
    }
   ],
   "source": [
    "k = 0\n",
    "while True:\n",
    "    print(f'{k}:\\tHello, world!')\n",
    "    k += 1\n",
    "    if k == 140:\n",
    "        break"
   ]
  },
  {
   "cell_type": "markdown",
   "id": "f9ec9fe7-3546-45f6-8532-d0bc8a4a74d6",
   "metadata": {
    "tags": []
   },
   "source": [
    "### Генераторы"
   ]
  },
  {
   "cell_type": "code",
   "execution_count": 14,
   "id": "f3bda6ee-68d5-4630-aa68-e0101e2123cf",
   "metadata": {},
   "outputs": [
    {
     "name": "stdout",
     "output_type": "stream",
     "text": [
      "[0, 1, 2, 3, 4, 5, 6, 7, 8, 9, 10, 11, 12, 13, 14, 15, 16, 17, 18, 19, 20, 21, 22, 23, 24, 25, 26, 27, 28, 29, 30, 31, 32, 33, 34, 35, 36, 37, 38, 39, 40, 41, 42, 43, 44, 45, 46, 47, 48, 49, 50, 51, 52, 53, 54, 55, 56, 57, 58, 59, 60, 61, 62, 63, 64, 65, 66, 67, 68, 69, 70, 71, 72, 73, 74, 75, 76, 77, 78, 79, 80, 81, 82, 83, 84, 85, 86, 87, 88, 89, 90, 91, 92, 93, 94, 95, 96, 97, 98, 99]\n"
     ]
    }
   ],
   "source": [
    "a = []\n",
    "for i in range(100):\n",
    "    a.append(i)\n",
    "print(a)"
   ]
  },
  {
   "cell_type": "code",
   "execution_count": 16,
   "id": "e879e33b-4c23-4c6a-918b-fc490dcf4d5e",
   "metadata": {},
   "outputs": [
    {
     "name": "stdout",
     "output_type": "stream",
     "text": [
      "[0, 1, 2, 3, 4, 5, 6, 7, 8, 9, 10, 11, 12, 13, 14, 15, 16, 17, 18, 19, 20, 21, 22, 23, 24, 25, 26, 27, 28, 29, 30, 31, 32, 33, 34, 35, 36, 37, 38, 39, 40, 41, 42, 43, 44, 45, 46, 47, 48, 49, 50, 51, 52, 53, 54, 55, 56, 57, 58, 59, 60, 61, 62, 63, 64, 65, 66, 67, 68, 69, 70, 71, 72, 73, 74, 75, 76, 77, 78, 79, 80, 81, 82, 83, 84, 85, 86, 87, 88, 89, 90, 91, 92, 93, 94, 95, 96, 97, 98, 99]\n"
     ]
    }
   ],
   "source": [
    "a = [i for i in range(100)]\n",
    "print(a)"
   ]
  },
  {
   "cell_type": "code",
   "execution_count": 19,
   "id": "f970c6f0-aa1d-484a-be41-9d3ebf8d060c",
   "metadata": {},
   "outputs": [
    {
     "name": "stdout",
     "output_type": "stream",
     "text": [
      "[0, 2, 4, 6, 8, 10, 12, 14, 16, 18, 20, 22, 24, 26, 28, 30, 32, 34, 36, 38, 40, 42, 44, 46, 48, 50, 52, 54, 56, 58, 60, 62, 64, 66, 68, 70, 72, 74, 76, 78, 80, 82, 84, 86, 88, 90, 92, 94, 96, 98]\n"
     ]
    }
   ],
   "source": [
    "a = [i for i in range(100) if i % 2 == 0]\n",
    "print(a)"
   ]
  },
  {
   "cell_type": "code",
   "execution_count": 21,
   "id": "84db1f2d-a439-427a-af40-c588d04e2be2",
   "metadata": {},
   "outputs": [
    {
     "ename": "SyntaxError",
     "evalue": "invalid syntax (Temp/ipykernel_9428/1556586811.py, line 1)",
     "output_type": "error",
     "traceback": [
      "\u001b[1;36m  File \u001b[1;32m\"C:\\Users\\SNATAL~1\\AppData\\Local\\Temp/ipykernel_9428/1556586811.py\"\u001b[1;36m, line \u001b[1;32m1\u001b[0m\n\u001b[1;33m    a = [i for i in range(100) if i % 2 == 0 else i ** 2]\u001b[0m\n\u001b[1;37m                                             ^\u001b[0m\n\u001b[1;31mSyntaxError\u001b[0m\u001b[1;31m:\u001b[0m invalid syntax\n"
     ]
    }
   ],
   "source": [
    "a = [i for i in range(100) if i % 2 == 0 else i ** 2]"
   ]
  },
  {
   "cell_type": "code",
   "execution_count": 25,
   "id": "b3382b2f-336f-468d-961c-bc1c3b533b95",
   "metadata": {},
   "outputs": [
    {
     "name": "stdout",
     "output_type": "stream",
     "text": [
      "[0, 1, 2, 9, 4, 25, 6, 49, 8, 81, 10, 121, 12, 169, 14, 225, 16, 289, 18, 361, 20, 441, 22, 529, 24, 625, 26, 729, 28, 841, 30, 961, 32, 1089, 34, 1225, 36, 1369, 38, 1521, 40, 1681, 42, 1849, 44, 2025, 46, 2209, 48, 2401, 50, 2601, 52, 2809, 54, 3025, 56, 3249, 58, 3481, 60, 3721, 62, 3969, 64, 4225, 66, 4489, 68, 4761, 70, 5041, 72, 5329, 74, 5625, 76, 5929, 78, 6241, 80, 6561, 82, 6889, 84, 7225, 86, 7569, 88, 7921, 90, 8281, 92, 8649, 94, 9025, 96, 9409, 98, 9801]\n"
     ]
    }
   ],
   "source": [
    "a = [i if i % 2 == 0 else i ** 2 for i in range(100)]\n",
    "print(a)"
   ]
  },
  {
   "cell_type": "code",
   "execution_count": null,
   "id": "8dae0806-673b-448d-bc8d-d11b30d35f7d",
   "metadata": {},
   "outputs": [],
   "source": []
  },
  {
   "cell_type": "markdown",
   "id": "b57f5526-9ced-47a0-b157-7dbdaeb644e4",
   "metadata": {
    "jp-MarkdownHeadingCollapsed": true,
    "tags": []
   },
   "source": [
    "## Функции"
   ]
  },
  {
   "cell_type": "markdown",
   "id": "188ad8f5-8923-412e-865a-587946470d41",
   "metadata": {
    "tags": []
   },
   "source": [
    "### def"
   ]
  },
  {
   "cell_type": "code",
   "execution_count": 14,
   "id": "c5c29c9a-9f60-46e1-b2fe-64e7fd82ca12",
   "metadata": {
    "tags": []
   },
   "outputs": [
    {
     "name": "stdout",
     "output_type": "stream",
     "text": [
      "hello, world\n"
     ]
    }
   ],
   "source": [
    "# функция\n",
    "def hello():\n",
    "    print('hello, world')\n",
    "\n",
    "hello()"
   ]
  },
  {
   "cell_type": "code",
   "execution_count": 15,
   "id": "27c7c638-a7cc-428b-9ed2-8bf9e21a5b2a",
   "metadata": {
    "tags": []
   },
   "outputs": [
    {
     "name": "stdout",
     "output_type": "stream",
     "text": [
      "Hello, Sergey !\n"
     ]
    }
   ],
   "source": [
    "# функция с аргументом\n",
    "def hello_with_arg(name):\n",
    "    print('Hello,', name, '!')\n",
    "    \n",
    "hello_with_arg('Sergey')"
   ]
  },
  {
   "cell_type": "code",
   "execution_count": 16,
   "id": "0d20451a-2683-427a-a2c4-f8d96c2df1ec",
   "metadata": {},
   "outputs": [
    {
     "name": "stdout",
     "output_type": "stream",
     "text": [
      "Hello, Sergey!\n"
     ]
    }
   ],
   "source": [
    "# функция с return\n",
    "def hello_with_return(name):\n",
    "    return 'Hello, ' + name +'!'\n",
    "\n",
    "name = 'Sergey'\n",
    "hello_name = hello_with_return(name)\n",
    "print(hello_name)"
   ]
  },
  {
   "cell_type": "code",
   "execution_count": 17,
   "id": "bdcaec84-a72d-4fa5-ba13-a33766e7820a",
   "metadata": {},
   "outputs": [
    {
     "name": "stdin",
     "output_type": "stream",
     "text": [
      "Введите имя: Сергей\n"
     ]
    },
    {
     "name": "stdout",
     "output_type": "stream",
     "text": [
      "Hello, Сергей !\n"
     ]
    }
   ],
   "source": [
    "# вызов функции из функции\n",
    "def hello_with_input():\n",
    "    name = input('Введите имя:')\n",
    "    hello_with_arg(name)\n",
    "    \n",
    "hello_with_input()"
   ]
  },
  {
   "cell_type": "code",
   "execution_count": 18,
   "id": "bcc42ad0-c713-4648-9234-4e91a8c64455",
   "metadata": {},
   "outputs": [
    {
     "data": {
      "text/plain": [
       "21"
      ]
     },
     "execution_count": 18,
     "metadata": {},
     "output_type": "execute_result"
    }
   ],
   "source": [
    "# рекурсия\n",
    "# 1 1 2 3 5 8 13 21 34 55\n",
    "def fib(n):\n",
    "    \"\"\"Функция возвращающая число фибоначчи по номеру\"\"\"\n",
    "    if n > 1:\n",
    "        return fib(n-2) + fib(n-1)\n",
    "    return n\n",
    "\n",
    "fib(8)"
   ]
  },
  {
   "cell_type": "markdown",
   "id": "f2f9e5ac-9b3f-410f-8afa-b3fa03a15de3",
   "metadata": {
    "tags": []
   },
   "source": [
    "### lambda"
   ]
  },
  {
   "cell_type": "code",
   "execution_count": 5,
   "id": "5954f4f8-0123-47a5-8de7-a8f113955115",
   "metadata": {},
   "outputs": [
    {
     "name": "stdout",
     "output_type": "stream",
     "text": [
      "hello, world\n"
     ]
    }
   ],
   "source": [
    "x = lambda: print('hello, world')"
   ]
  },
  {
   "cell_type": "code",
   "execution_count": 7,
   "id": "1325333f-8389-447f-85d8-3faa0453606a",
   "metadata": {},
   "outputs": [
    {
     "name": "stdout",
     "output_type": "stream",
     "text": [
      "hello, Sergey !\n"
     ]
    }
   ],
   "source": [
    "x = lambda name: print('hello,', name, '!')\n",
    "x('Sergey')"
   ]
  },
  {
   "cell_type": "code",
   "execution_count": 2,
   "id": "742f1ea6-47f5-4e6b-bbe9-746184ade89b",
   "metadata": {},
   "outputs": [
    {
     "name": "stdin",
     "output_type": "stream",
     "text": [
      "Введите имя: Сергей\n"
     ]
    },
    {
     "name": "stdout",
     "output_type": "stream",
     "text": [
      "hello, Сергей !\n"
     ]
    }
   ],
   "source": [
    "x = lambda: print('hello,', input('Введите имя:'), '!')\n",
    "x()"
   ]
  },
  {
   "cell_type": "code",
   "execution_count": 5,
   "id": "156d5cc0-b308-489d-a0ac-5f874ac0783c",
   "metadata": {},
   "outputs": [
    {
     "name": "stdout",
     "output_type": "stream",
     "text": [
      "[1, 8, 27, 64, 125]\n"
     ]
    }
   ],
   "source": [
    "x = [1,2,3,4,5]\n",
    "x_in_cube = list(map(lambda a: a ** 3, x))\n",
    "print(x_in_cube)"
   ]
  },
  {
   "cell_type": "markdown",
   "id": "33c29ccb-47c9-4ebe-9a3f-14ee1b808ed1",
   "metadata": {
    "tags": []
   },
   "source": [
    "## One more thing"
   ]
  },
  {
   "cell_type": "code",
   "execution_count": 14,
   "id": "da2467cc-415b-4494-a312-004f693f5a4e",
   "metadata": {},
   "outputs": [],
   "source": [
    "from newspaper import Article\n",
    "\n",
    "url_bbc = 'https://www.bbc.com/future/article/20211015-how-climate-change-is-threatening-new-yorks-shipwrecks'\n",
    "url_habr = 'https://habr.com/ru/post/583810/'\n",
    "article = Article(url_habr)"
   ]
  },
  {
   "cell_type": "code",
   "execution_count": 15,
   "id": "76b90efa-98f2-4257-b2ac-2e97158cc41f",
   "metadata": {},
   "outputs": [],
   "source": [
    "article.download()"
   ]
  },
  {
   "cell_type": "code",
   "execution_count": 16,
   "id": "6834eb41-2ad3-4a92-bbfa-b2935753c95b",
   "metadata": {
    "tags": []
   },
   "outputs": [],
   "source": [
    "article.parse()"
   ]
  },
  {
   "cell_type": "code",
   "execution_count": 17,
   "id": "b2bd4c3e-eb43-471e-85a6-0209fa2f5811",
   "metadata": {},
   "outputs": [
    {
     "data": {
      "text/plain": [
       "['Как Стать Автором']"
      ]
     },
     "execution_count": 17,
     "metadata": {},
     "output_type": "execute_result"
    }
   ],
   "source": [
    "article.authors"
   ]
  },
  {
   "cell_type": "code",
   "execution_count": 20,
   "id": "e00b3060-3e63-4fb1-88de-8a0ac2d6c8b7",
   "metadata": {},
   "outputs": [],
   "source": [
    "article.publish_date"
   ]
  },
  {
   "cell_type": "code",
   "execution_count": 21,
   "id": "04a7e6d1-c43c-4488-9a59-9d6be419707f",
   "metadata": {},
   "outputs": [
    {
     "name": "stderr",
     "output_type": "stream",
     "text": [
      "[nltk_data] Downloading package punkt to\n",
      "[nltk_data]     C:\\Users\\snatalenko\\AppData\\Roaming\\nltk_data...\n",
      "[nltk_data]   Package punkt is already up-to-date!\n"
     ]
    }
   ],
   "source": [
    "import nltk\n",
    "nltk.download('punkt')\n",
    "article.nlp()"
   ]
  },
  {
   "cell_type": "code",
   "execution_count": 22,
   "id": "662f855e-97be-4b7d-b862-2243a687a492",
   "metadata": {},
   "outputs": [
    {
     "data": {
      "text/plain": [
       "['мы',\n",
       " 'а',\n",
       " 'санктпетербурга',\n",
       " 'для',\n",
       " 'в',\n",
       " 'не',\n",
       " 'видимости',\n",
       " 'гулябельности',\n",
       " 'растительности',\n",
       " 'с',\n",
       " 'на',\n",
       " 'и',\n",
       " 'карта']"
      ]
     },
     "execution_count": 22,
     "metadata": {},
     "output_type": "execute_result"
    }
   ],
   "source": [
    "article.keywords"
   ]
  },
  {
   "cell_type": "code",
   "execution_count": null,
   "id": "13c3897b-20d1-4aab-9c80-dea93083b24a",
   "metadata": {},
   "outputs": [],
   "source": [
    "article.summary"
   ]
  },
  {
   "cell_type": "markdown",
   "id": "828fca85-e01b-49fb-91b0-71d4725fa54f",
   "metadata": {
    "tags": []
   },
   "source": [
    "----\n",
    "## Задачи"
   ]
  },
  {
   "cell_type": "markdown",
   "id": "cbfcacc5-2bdf-477a-9d18-3f16c666ebf4",
   "metadata": {
    "tags": []
   },
   "source": [
    "#### **Покупка пирожков**"
   ]
  },
  {
   "cell_type": "markdown",
   "id": "48902ac8-33fd-4ba7-87fc-8f6bb97001e3",
   "metadata": {},
   "source": [
    "Пирожок в столовой  стоит А рублей и B копеек. Определите, сколько ребулей и копеек нужно заплатить за N пирожков\n",
    "\n",
    "\n",
    "**Формат входных данных**\n",
    "\n",
    "Программа получает на вход три числа: A, B, N - целые положительные.\n",
    "\n",
    "\n",
    "**Формат выходных данных**\n",
    "\n",
    "Программа должна вывести два числа через пробел: стоимость покупки в рублях и копейках"
   ]
  },
  {
   "cell_type": "markdown",
   "id": "80982dd5-28b7-440e-83bf-2fd501352182",
   "metadata": {
    "tags": []
   },
   "source": [
    "**Пример входных данных 1:**\n",
    "```\n",
    "10\n",
    "15\n",
    "2\n",
    "```\n",
    "\n",
    "**Пример выходных данных 1:**\n",
    "```\n",
    "20 30\n",
    "```\n",
    "----"
   ]
  },
  {
   "cell_type": "markdown",
   "id": "200bc8ae-4a03-4ce0-868f-926618e6afe7",
   "metadata": {
    "tags": []
   },
   "source": [
    "**Пример входных данных 2:**\n",
    "```\n",
    "2\n",
    "50\n",
    "4\n",
    "```\n",
    "\n",
    "**Пример выходных данных 2:**\n",
    "```\n",
    "10 0\n",
    "````\n",
    "----"
   ]
  },
  {
   "cell_type": "markdown",
   "id": "a2dda4b0-a88a-40b0-963e-d9f104679c4e",
   "metadata": {
    "tags": []
   },
   "source": [
    "##### Решение"
   ]
  },
  {
   "cell_type": "code",
   "execution_count": 31,
   "id": "7983b54f-0f1d-42cf-a305-7d73a06c2b37",
   "metadata": {
    "collapsed": true,
    "jupyter": {
     "outputs_hidden": true
    },
    "tags": []
   },
   "outputs": [
    {
     "name": "stdin",
     "output_type": "stream",
     "text": [
      " 2\n",
      " 50\n",
      " 4\n"
     ]
    },
    {
     "name": "stdout",
     "output_type": "stream",
     "text": [
      "10 0\n"
     ]
    }
   ],
   "source": [
    "a = int(input())\n",
    "b = int(input())\n",
    "n = int(input())\n",
    "rubles = a * n + b * n // 100 \n",
    "kopecks =  b * n % 100\n",
    "print(rubles, kopecks)"
   ]
  },
  {
   "cell_type": "markdown",
   "id": "3ccdc147-01b1-4818-9a8a-cd9b7fef1d45",
   "metadata": {
    "tags": []
   },
   "source": [
    "#### Шоколадка"
   ]
  },
  {
   "cell_type": "markdown",
   "id": "204f6736-5d31-4e8e-a656-dca89c781f51",
   "metadata": {},
   "source": [
    "Шоколадка имеет вид прямоугольника, разделенного на NxM долек. Шоколадку можно один раз разломить по прямой на две части. Опеределите, можно ли таким образом отломить от шоколадки ровно K долек.\n",
    "\n",
    "**Формат входных данных**\n",
    "\n",
    "Программа получает на вход три числа: N, M, K\n",
    "\n",
    "\n",
    "**Формат выходных данных**\n",
    "\n",
    "Программа должна вывести одно из двух слов: ```YES``` или ```NO```"
   ]
  },
  {
   "cell_type": "markdown",
   "id": "c8328a4a-8ad0-4c36-a330-eaa5022eade8",
   "metadata": {
    "tags": []
   },
   "source": [
    "**Пример входных данных 1**\n",
    "\n",
    "```\n",
    "4\n",
    "2\n",
    "6\n",
    "```\n",
    "\n",
    "**Пример выходных данных 1**\n",
    "\n",
    "```\n",
    "YES\n",
    "```\n",
    "----"
   ]
  },
  {
   "cell_type": "markdown",
   "id": "6d45b5f2-b68b-49d0-968d-ded2e557c789",
   "metadata": {
    "tags": []
   },
   "source": [
    "**Пример входных данных 2**\n",
    "\n",
    "```\n",
    "2\n",
    "10\n",
    "7\n",
    "```\n",
    "\n",
    "**Пример выходных данных 2**\n",
    "\n",
    "```\n",
    "NO\n",
    "```\n",
    "----"
   ]
  },
  {
   "cell_type": "markdown",
   "id": "f102fe77-fffe-4c52-9b81-10f5e1ae96b3",
   "metadata": {},
   "source": [
    "##### Решение"
   ]
  },
  {
   "cell_type": "code",
   "execution_count": 34,
   "id": "019c5990-9c28-45c1-baaa-aa598e910652",
   "metadata": {
    "tags": []
   },
   "outputs": [
    {
     "name": "stdin",
     "output_type": "stream",
     "text": [
      " 2\n",
      " 10\n",
      " 7\n"
     ]
    },
    {
     "name": "stdout",
     "output_type": "stream",
     "text": [
      "NO\n"
     ]
    }
   ],
   "source": [
    "n = int(input())\n",
    "m = int(input())\n",
    "k = int(input())\n",
    "\n",
    "if n * m >= k and (k % n == 0 or k % m == 0):\n",
    "    print('YES')\n",
    "else:\n",
    "    print('NO')"
   ]
  },
  {
   "cell_type": "markdown",
   "id": "507db2c7-a9e3-49e7-a447-66c8abfa953a",
   "metadata": {
    "tags": []
   },
   "source": [
    "#### Наименьший нечетный элемент"
   ]
  },
  {
   "cell_type": "markdown",
   "id": "42fec087-de4c-4ded-bb12-48de953e4316",
   "metadata": {},
   "source": [
    "выведите значение наименьшего нечетного элемента списка, а если в списке нет нечетных элементов - выведите число ```0```.\n",
    "\n",
    "**Формат входных данных**\n",
    "\n",
    "В одной строке через пробел вводятся элементы массива.\n",
    "\n",
    "\n",
    "**Формат выходных данных**\n",
    "\n",
    "Одно число - ответ на задачу."
   ]
  },
  {
   "cell_type": "markdown",
   "id": "c344d3dd-b23e-452c-8d7f-962b759fa546",
   "metadata": {},
   "source": [
    "**Пример входных данных 1**\n",
    "```\n",
    "0 1 2 3 4 5 6\n",
    "```\n",
    "\n",
    "**Пример выходных данных 1**\n",
    "```\n",
    "1\n",
    "```\n",
    "----"
   ]
  },
  {
   "cell_type": "markdown",
   "id": "1ef7f532-00b1-40a4-9bbc-1fc41a252382",
   "metadata": {},
   "source": [
    "**Пример входных данных 2**\n",
    "\n",
    "```\n",
    "2 4 6 8 10\n",
    "```\n",
    "\n",
    "**Пример выходных данных 2**\n",
    "```\n",
    "0\n",
    "```\n",
    "----"
   ]
  },
  {
   "cell_type": "markdown",
   "id": "da1a782a-150a-4ae2-86d2-809796deb4f3",
   "metadata": {},
   "source": [
    "##### Решение"
   ]
  },
  {
   "cell_type": "code",
   "execution_count": 40,
   "id": "e39913e0-628c-4dde-8ebb-1bae5b7d768e",
   "metadata": {},
   "outputs": [
    {
     "name": "stdin",
     "output_type": "stream",
     "text": [
      " 2 4 5 6 10\n"
     ]
    },
    {
     "name": "stdout",
     "output_type": "stream",
     "text": [
      "5\n"
     ]
    }
   ],
   "source": [
    "a = list(map(int, input().split()))\n",
    "\n",
    "k = 0\n",
    "\n",
    "for i in a:\n",
    "    if i % 2 == 1 and (i < k or k == 0):\n",
    "        k = i\n",
    "print(k)"
   ]
  },
  {
   "cell_type": "markdown",
   "id": "a41b4529-b769-4585-8830-21d9de2bb893",
   "metadata": {
    "jp-MarkdownHeadingCollapsed": true,
    "tags": []
   },
   "source": [
    "----\n",
    "## Полезные материалы"
   ]
  },
  {
   "cell_type": "markdown",
   "id": "2049b596-7107-4157-8a36-5d8a8ef161c1",
   "metadata": {
    "tags": []
   },
   "source": [
    "### Книги"
   ]
  },
  {
   "cell_type": "markdown",
   "id": "99a82530-4ed6-4c08-91b2-71cb92b604b7",
   "metadata": {},
   "source": [
    "1. A byte of Python. Swaroop Chiltur (в русском переводе \"Укус Питона\" пер. Владимир Смоляр)\n",
    "2. Как устроен Python. Гид для разработчиков, программистов и интересующихся. Мэтт Харрисон\n",
    "3. Python. Справочник. Полное описание языка. Алекс Мартелли **&ast;**\n",
    "4. Python. К вершинам мастерства. Лучано Ромальо **&ast;**"
   ]
  },
  {
   "cell_type": "markdown",
   "id": "022823b7-7f25-4d65-9b5d-9249cd3ef187",
   "metadata": {
    "tags": []
   },
   "source": [
    "### Курсы"
   ]
  },
  {
   "cell_type": "markdown",
   "id": "d4e97d9a-a135-448e-9574-f9495a5cb850",
   "metadata": {},
   "source": [
    "1. [Stepik. Программирование на Python](https://stepik.org/course/67/promo#toc)\n",
    "2. [Stepik. Python: основы и применение](https://stepik.org/course/512/promo#toc)\n",
    "3. [YouTube. Тимофей Хирьянов. Практика программирования на Python 3 (2019)](https://www.youtube.com/playlist?list=PLRDzFCPr95fLuusPXwvOPgXzBL3ZTzybY)\n",
    "4. [YouTube. Яндекс. Курс \"Язык Python\" (2016)](https://www.youtube.com/playlist?list=PLJOzdkh8T5kpIBTG9mM2wVBjh-5OpdwBl)"
   ]
  },
  {
   "cell_type": "markdown",
   "id": "dd281cfa-cd8c-4187-8abb-96bb420cf196",
   "metadata": {
    "tags": []
   },
   "source": [
    "### Другое"
   ]
  },
  {
   "cell_type": "markdown",
   "id": "f001bd5d-acf2-4d4d-a05b-47c328717143",
   "metadata": {},
   "source": [
    "1. [Python на Хабре](https://habr.com/ru/post/205944/)\n",
    "2. [Документация последней версии Python](https://docs.python.org/3/index.html)\n",
    "3. [PEP 8. Style Guide for Python Code](https://www.python.org/dev/peps/pep-0008/)"
   ]
  },
  {
   "cell_type": "code",
   "execution_count": null,
   "id": "6df5febc-af55-4373-b696-a3be49cb3caa",
   "metadata": {},
   "outputs": [],
   "source": []
  }
 ],
 "metadata": {
  "kernelspec": {
   "display_name": "Python 3 (ipykernel)",
   "language": "python",
   "name": "python3"
  },
  "language_info": {
   "codemirror_mode": {
    "name": "ipython",
    "version": 3
   },
   "file_extension": ".py",
   "mimetype": "text/x-python",
   "name": "python",
   "nbconvert_exporter": "python",
   "pygments_lexer": "ipython3",
   "version": "3.9.5"
  }
 },
 "nbformat": 4,
 "nbformat_minor": 5
}
